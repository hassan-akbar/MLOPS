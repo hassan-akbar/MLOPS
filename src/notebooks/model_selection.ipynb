{
 "cells": [
  {
   "cell_type": "markdown",
   "id": "0b1acb1d",
   "metadata": {},
   "source": [
    "# 🧩 Dataset Overview\n",
    "\n",
    "This dataset contains **pressure distribution maps** representing five posture positions.  \n",
    "Each image is a heatmap where **color intensity** indicates **pressure**:\n",
    "- 🔴 High pressure\n",
    "- 🔵 Low or no pressure\n",
    "\n",
    "---\n",
    "\n",
    "## 📚 Posture Classes\n",
    "- **Left** – Lying on the left side  \n",
    "- **Right** – Lying on the right side  \n",
    "- **Supine** – Lying on the back  \n",
    "- **Prone** – Lying face down  \n",
    "- **OOB (Out of Bed)** – No subject or off the mat  "
   ]
  },
  {
   "cell_type": "markdown",
   "id": "f65cf4e4",
   "metadata": {},
   "source": [
    "# Data Ingestion\n"
   ]
  },
  {
   "cell_type": "code",
   "execution_count": 98,
   "id": "f2e243ed",
   "metadata": {},
   "outputs": [],
   "source": [
    "# libraries\n",
    "import os\n",
    "from PIL import Image\n",
    "from torch.utils.data import Dataset, random_split\n",
    "from torchvision import transforms\n",
    "import matplotlib.pyplot as plt\n",
    "import random\n",
    "import json"
   ]
  },
  {
   "cell_type": "code",
   "execution_count": 99,
   "id": "43a38dad",
   "metadata": {},
   "outputs": [],
   "source": [
    "# Define root directory and classes\n",
    "root_dir = \"Task_1_data\"\n",
    "CLASSES = [\"left\", \"right\", \"supine\", \"outofbed\", \"prone\"]"
   ]
  },
  {
   "cell_type": "code",
   "execution_count": 100,
   "id": "d6295016",
   "metadata": {},
   "outputs": [],
   "source": [
    "class PressureDistributionDataset(Dataset):\n",
    "    def __init__(self, root_dir, classes, transform=None):\n",
    "        self.root_dir = root_dir\n",
    "        self.transform = transform\n",
    "        self.classes = classes\n",
    "        self.samples = []\n",
    "        self.skipped = []\n",
    "        self.counter = 0\n",
    "\n",
    "        # Folders aren't properly labeled so we need to assign labels based on file name.\n",
    "        for subdir, _, files in os.walk(root_dir):\n",
    "            for f in files:\n",
    "                fpath = os.path.join(subdir, f)\n",
    "                if f.endswith(\".jpg\"):\n",
    "\n",
    "                    label = self.extract_label(f)\n",
    "                    if label is not None:\n",
    "                        label_indx = CLASSES.index(label)\n",
    "                        self.samples.append((fpath, label_indx))\n",
    "                else:\n",
    "                    self.counter += 1\n",
    "                    self.skipped.append(fpath)\n",
    "        print(f\"Skipped {self.counter} non-jpg files.\")\n",
    "\n",
    "    def extract_label(self, filename):\n",
    "        # Extract label from filename\n",
    "        filename = filename.lower()\n",
    "        for c_name in CLASSES:\n",
    "            if filename.startswith(c_name):\n",
    "                return c_name\n",
    "        return None\n",
    "\n",
    "    def __len__(self):\n",
    "        return len(self.samples)\n",
    "\n",
    "    def __getitem__(self, idx):\n",
    "        img_path, label = self.samples[idx]\n",
    "        image = Image.open(img_path)\n",
    "        if self.transform:\n",
    "            image = self.transform(image)\n",
    "        return image, label\n",
    "\n",
    "    def return_random_sample(self):\n",
    "        indx = random.randint(0, len(self.samples) - 1)\n",
    "        return self.__getitem__(indx)\n",
    "\n",
    "    def get_skipped_files(self):\n",
    "        return self.skipped"
   ]
  },
  {
   "cell_type": "markdown",
   "id": "aa3862f5",
   "metadata": {},
   "source": [
    "# Functions for MLFLOW metrics"
   ]
  },
  {
   "cell_type": "code",
   "execution_count": 101,
   "id": "ba2376cf",
   "metadata": {},
   "outputs": [],
   "source": [
    "import mlflow\n",
    "import matplotlib.pyplot as plt\n",
    "import seaborn as sns\n",
    "import pandas as pd\n",
    "import tempfile\n",
    "\n",
    "\n",
    "def log_classification_report_html(c_report, model_name=\"Model\"):\n",
    "    # Convert classification report to DataFrame\n",
    "    df_report = pd.DataFrame(c_report).transpose().round(3)\n",
    "\n",
    "    # --- Styled HTML ---\n",
    "    html = f\"\"\"\n",
    "    <html>\n",
    "    <head>\n",
    "        <style>\n",
    "            body {{\n",
    "                font-family: Arial, sans-serif;\n",
    "                margin: 40px;\n",
    "                background-color: #f9f9f9;\n",
    "            }}\n",
    "            h2 {{\n",
    "                text-align: center;\n",
    "                color: #333;\n",
    "            }}\n",
    "            table {{\n",
    "                border-collapse: collapse;\n",
    "                width: 80%;\n",
    "                margin: 20px auto;\n",
    "                box-shadow: 0 2px 8px rgba(0,0,0,0.1);\n",
    "                background-color: white;\n",
    "            }}\n",
    "            th, td {{\n",
    "                border: 1px solid #ccc;\n",
    "                padding: 10px 15px;\n",
    "                text-align: center;\n",
    "            }}\n",
    "            th {{\n",
    "                background-color: #007BFF;\n",
    "                color: white;\n",
    "                font-weight: bold;\n",
    "            }}\n",
    "            tr:nth-child(even) {{\n",
    "                background-color: #f2f2f2;\n",
    "            }}\n",
    "            tr:hover {{\n",
    "                background-color: #eaf3ff;\n",
    "            }}\n",
    "        </style>\n",
    "    </head>\n",
    "    <body>\n",
    "        <h2>Classification Report for {model_name}</h2>\n",
    "        {df_report.to_html(index=True, classes='styled-table', border=0)}\n",
    "    </body>\n",
    "    </html>\n",
    "    \"\"\"\n",
    "\n",
    "    # --- Write to a temporary file and log it as artifact ---\n",
    "    with tempfile.NamedTemporaryFile(\"w\", suffix=\".html\", delete=False) as tmp:\n",
    "        tmp.write(html)\n",
    "        tmp.flush()\n",
    "        mlflow.log_artifact(tmp.name, artifact_path=\"reports\")"
   ]
  },
  {
   "cell_type": "markdown",
   "id": "1b88f2e3",
   "metadata": {},
   "source": [
    "## Baseline SVC with grayscale filter"
   ]
  },
  {
   "cell_type": "code",
   "execution_count": 13,
   "id": "fe654e7f",
   "metadata": {},
   "outputs": [],
   "source": [
    "# Define transforms\n",
    "# 58x130 is the size of the images in the dataset\n",
    "# Converting to grayscale to try and simplyfy the model\n",
    "transform = transforms.Compose(\n",
    "    [\n",
    "        transforms.Resize((256, 256)),\n",
    "        transforms.ToTensor(),\n",
    "        transforms.Grayscale(num_output_channels=1),\n",
    "    ]\n",
    ")"
   ]
  },
  {
   "cell_type": "code",
   "execution_count": 14,
   "id": "153b5be6",
   "metadata": {},
   "outputs": [
    {
     "name": "stdout",
     "output_type": "stream",
     "text": [
      "Skipped 1 non-jpg files.\n",
      "Total samples in dataset: 3775\n"
     ]
    },
    {
     "data": {
      "text/plain": [
       "['Task_1_data/TRAIN/.DS_Store']"
      ]
     },
     "execution_count": 14,
     "metadata": {},
     "output_type": "execute_result"
    }
   ],
   "source": [
    "train_path = os.path.join(root_dir, \"TRAIN\")\n",
    "dataset = PressureDistributionDataset(train_path, CLASSES, transform=transform)\n",
    "\n",
    "print(f\"Total samples in dataset: {len(dataset)}\")\n",
    "dataset.get_skipped_files()"
   ]
  },
  {
   "cell_type": "code",
   "execution_count": 15,
   "id": "8aad08d8",
   "metadata": {},
   "outputs": [
    {
     "data": {
      "image/png": "[encoded data removed]",
      "text/plain": [
       "<Figure size 640x480 with 10 Axes>"
      ]
     },
     "metadata": {},
     "output_type": "display_data"
    }
   ],
   "source": [
    "for i in range(10):\n",
    "    img, label = dataset.return_random_sample()\n",
    "    np_img = img.permute(1, 2, 0).numpy()\n",
    "    plt.subplot(2, 5, i + 1)\n",
    "    plt.imshow(np_img.squeeze(), cmap=\"gray\")\n",
    "    plt.title(CLASSES[label])\n",
    "    plt.axis(\"off\")\n",
    "\n",
    "\n",
    "plt.tight_layout()\n",
    "plt.show()"
   ]
  },
  {
   "cell_type": "code",
   "execution_count": 16,
   "id": "565c8580",
   "metadata": {},
   "outputs": [
    {
     "name": "stdout",
     "output_type": "stream",
     "text": [
      "Skipped 1 non-jpg files.\n",
      "Training samples : 3020\n",
      "Validation samples : 755\n",
      "Test samples : 1554\n"
     ]
    }
   ],
   "source": [
    "# Splitting the dataset into training, validation and test sets\n",
    "\n",
    "train_split = int(0.8 * len(dataset))\n",
    "val_split = len(dataset) - train_split\n",
    "\n",
    "train_ds, val_ds = random_split(dataset, [train_split, val_split])\n",
    "test_ds = PressureDistributionDataset(\n",
    "    os.path.join(root_dir, \"VALIDATION\"), classes=CLASSES, transform=transform\n",
    ")\n",
    "\n",
    "print(f\"Training samples : {len(train_ds)}\")\n",
    "print(f\"Validation samples : {len(val_ds)}\")\n",
    "print(f\"Test samples : {len(test_ds)}\")"
   ]
  },
  {
   "cell_type": "markdown",
   "id": "a6231320",
   "metadata": {},
   "source": [
    "# Baseline Models "
   ]
  },
  {
   "cell_type": "markdown",
   "id": "d480d393",
   "metadata": {},
   "source": [
    "## SVM \n",
    "\n",
    "Simple SVM baseline - other models should almost always perform better.\n",
    "\n",
    "Flatten the image and pass it into an Support Vector Classifier"
   ]
  },
  {
   "cell_type": "code",
   "execution_count": 83,
   "id": "40909abc",
   "metadata": {},
   "outputs": [],
   "source": [
    "from sklearn.svm import SVC\n",
    "from sklearn.metrics import classification_report, accuracy_score\n",
    "import mlflow\n",
    "import joblib"
   ]
  },
  {
   "cell_type": "code",
   "execution_count": 84,
   "id": "39eb404a",
   "metadata": {},
   "outputs": [],
   "source": [
    "X, y = [], []\n",
    "\n",
    "# flatten train images\n",
    "for img, label in train_ds:\n",
    "    X.append(img.view(-1).numpy())  # flatten the image\n",
    "    y.append(label)\n",
    "\n",
    "# flatten validation images\n",
    "X_val, y_val = [], []\n",
    "for img, label in val_ds:\n",
    "    X_val.append(img.view(-1).numpy())  # flatten the image\n",
    "    y_val.append(label)\n",
    "\n",
    "clf = SVC(kernel=\"linear\", class_weight=\"balanced\")  # using linear kernel"
   ]
  },
  {
   "cell_type": "code",
   "execution_count": 85,
   "id": "6a3d8976",
   "metadata": {},
   "outputs": [
    {
     "name": "stdout",
     "output_type": "stream",
     "text": [
      "Unique labels found: [0 1 2 3 4]\n",
      "left: 335 samples\n",
      "right: 1053 samples\n",
      "supine: 581 samples\n",
      "outofbed: 772 samples\n",
      "prone: 279 samples\n"
     ]
    }
   ],
   "source": [
    "import numpy as np\n",
    "\n",
    "y = np.array(y)\n",
    "unique_labels, counts = np.unique(y, return_counts=True)\n",
    "\n",
    "print(\"Unique labels found:\", unique_labels)\n",
    "for i, c in zip(unique_labels, counts):\n",
    "    print(f\"{CLASSES[i]}: {c} samples\")"
   ]
  },
  {
   "cell_type": "code",
   "execution_count": 86,
   "id": "6b45d7d8",
   "metadata": {},
   "outputs": [
    {
     "name": "stdout",
     "output_type": "stream",
     "text": [
      "SVC model saved successfully.\n"
     ]
    }
   ],
   "source": [
    "clf.fit(X, y)\n",
    "preds = clf.predict(X_val)\n",
    "model_path = os.path.join(\"models\", \"baseline_svc_model.pkl\")\n",
    "try:\n",
    "    joblib.dump(clf, model_path)\n",
    "    print(\"SVC model saved successfully.\")\n",
    "except Exception as e:\n",
    "    print(f\"Error saving model: {e}\")"
   ]
  },
  {
   "cell_type": "code",
   "execution_count": 87,
   "id": "2be7e9bc",
   "metadata": {},
   "outputs": [],
   "source": [
    "mlflow.set_experiment(\"Pressure_Posture_Detection\")\n",
    "\n",
    "with mlflow.start_run(run_name=\"Baseline_Grayscale_SVC\"):\n",
    "    preds = clf.predict(X_val)\n",
    "    report = classification_report(y_val, preds, target_names=CLASSES, output_dict=True)\n",
    "\n",
    "    mlflow.log_params(\n",
    "        {\n",
    "            \"model\": \"SVC\",\n",
    "            \"kernel\": \"rbf\",\n",
    "        }\n",
    "    )\n",
    "\n",
    "    # log scalar metrics\n",
    "    mlflow.log_metrics(\n",
    "        {\n",
    "            \"f1_macro\": round(report[\"macro avg\"][\"f1-score\"], 3),\n",
    "            \"accuracy\": round(report[\"accuracy\"], 3),\n",
    "        }\n",
    "    )\n",
    "\n",
    "    # log classification report as HTML\n",
    "    log_classification_report_html(report, model_name=\"Baseline_Grayscale_SVC\")"
   ]
  },
  {
   "cell_type": "markdown",
   "id": "f78ebc2e",
   "metadata": {},
   "source": [
    "## Simple CNN"
   ]
  },
  {
   "cell_type": "code",
   "execution_count": 50,
   "id": "13aea502",
   "metadata": {},
   "outputs": [],
   "source": [
    "import torch\n",
    "import torch.nn as nn\n",
    "import torch.nn.functional as F\n",
    "\n",
    "\n",
    "class BaselineCNN(nn.Module):\n",
    "    def __init__(self, num_classes=5):\n",
    "        super(BaselineCNN, self).__init__()\n",
    "\n",
    "        # Grayscale input: 1 channel\n",
    "        self.conv1 = nn.Conv2d(1, 32, kernel_size=3, padding=1)\n",
    "        self.conv2 = nn.Conv2d(32, 64, kernel_size=3, padding=1)\n",
    "        self.conv3 = nn.Conv2d(64, 128, kernel_size=3, padding=1)\n",
    "        self.pool = nn.MaxPool2d(2, 2)\n",
    "        self.dropout = nn.Dropout(0.5)\n",
    "\n",
    "        # After 3 poolings: 256 → 128 → 64 → 32\n",
    "        self.fc1 = nn.Linear(128 * 32 * 32, 256)\n",
    "        self.fc2 = nn.Linear(256, num_classes)\n",
    "\n",
    "    def forward(self, x):\n",
    "        x = self.pool(F.relu(self.conv1(x)))  # (1→32)\n",
    "        x = self.pool(F.relu(self.conv2(x)))  # (32→64)\n",
    "        x = self.pool(F.relu(self.conv3(x)))  # (64→128)\n",
    "        x = x.view(x.size(0), -1)  # flatten dynamically\n",
    "        x = F.relu(self.fc1(x))\n",
    "        x = self.dropout(x)\n",
    "        x = self.fc2(x)\n",
    "        return x"
   ]
  },
  {
   "cell_type": "code",
   "execution_count": 51,
   "id": "e9ad281e",
   "metadata": {},
   "outputs": [],
   "source": [
    "from torch.utils.data import DataLoader\n",
    "\n",
    "batch_size = 64  # you can adjust this depending on your GPU/CPU\n",
    "\n",
    "train_loader = DataLoader(train_ds, batch_size=batch_size, shuffle=True)\n",
    "val_loader = DataLoader(val_ds, batch_size=batch_size, shuffle=False)\n",
    "test_loader = DataLoader(test_ds, batch_size=batch_size, shuffle=False)"
   ]
  },
  {
   "cell_type": "code",
   "execution_count": 53,
   "id": "fdb594ed",
   "metadata": {},
   "outputs": [
    {
     "name": "stdout",
     "output_type": "stream",
     "text": [
      "Epoch 1/5 - Loss: 0.6157\n",
      "Epoch 2/5 - Loss: 0.2219\n",
      "Epoch 3/5 - Loss: 0.1548\n",
      "Epoch 4/5 - Loss: 0.1184\n",
      "Epoch 5/5 - Loss: 0.0923\n"
     ]
    }
   ],
   "source": [
    "import mlflow\n",
    "import torch\n",
    "import torch.nn as nn\n",
    "from sklearn.metrics import classification_report, accuracy_score\n",
    "\n",
    "device = torch.device(\"mps\" if torch.backends.mps.is_available() else \"cpu\")\n",
    "model = BaselineCNN().to(device)\n",
    "criterion = nn.CrossEntropyLoss()\n",
    "optimizer = torch.optim.Adam(model.parameters(), lr=1e-3)\n",
    "epochs = 5\n",
    "\n",
    "mlflow.set_experiment(\"Pressure_Posture_Detection\")\n",
    "\n",
    "with mlflow.start_run(run_name=\"CNN_Baseline\"):\n",
    "    mlflow.log_params({\"model\": \"CNN\", \"epochs\": epochs, \"lr\": 1e-3})\n",
    "\n",
    "    # --- Training loop ---\n",
    "    for epoch in range(epochs):\n",
    "        model.train()\n",
    "        running_loss = 0.0\n",
    "        for imgs, labels in train_loader:\n",
    "            imgs, labels = imgs.to(device), labels.to(device)\n",
    "            optimizer.zero_grad()\n",
    "            outputs = model(imgs)\n",
    "            loss = criterion(outputs, labels)\n",
    "            loss.backward()\n",
    "            optimizer.step()\n",
    "            running_loss += loss.item()\n",
    "\n",
    "        print(f\"Epoch {epoch+1}/{epochs} - Loss: {running_loss/len(train_loader):.4f}\")\n",
    "\n",
    "    # --- Final Evaluation ---\n",
    "    model.eval()\n",
    "    val_preds, val_true = [], []\n",
    "    with torch.no_grad():\n",
    "        for imgs, labels in val_loader:\n",
    "            imgs, labels = imgs.to(device), labels.to(device)\n",
    "            outputs = model(imgs)\n",
    "            preds = torch.argmax(outputs, dim=1)\n",
    "            val_preds.extend(preds.cpu().numpy())\n",
    "            val_true.extend(labels.cpu().numpy())\n",
    "\n",
    "    # Compute metrics once at the end\n",
    "    report = classification_report(\n",
    "        y_true=val_true, y_pred=val_preds, target_names=CLASSES, output_dict=True\n",
    "    )\n",
    "    val_acc = accuracy_score(val_true, val_preds)\n",
    "    macro_f1 = report[\"macro avg\"][\"f1-score\"]\n",
    "\n",
    "    # Log metrics to MLflow\n",
    "    mlflow.log_metrics(\n",
    "        {\"val_accuracy\": round(val_acc, 3), \"val_macro_f1\": round(macro_f1, 3)}\n",
    "    )\n",
    "\n",
    "    log_classification_report_html(report, model_name=\"Baseline_Grayscale_CNN\")\n",
    "    # Save model\n",
    "    torch.save(model.state_dict(), \"models/cnn_grayscale_baseline.pth\")"
   ]
  },
  {
   "cell_type": "code",
   "execution_count": 54,
   "id": "a0ebebde",
   "metadata": {},
   "outputs": [
    {
     "name": "stdout",
     "output_type": "stream",
     "text": [
      "\n",
      "Test Classification Report:\n",
      "              precision    recall  f1-score   support\n",
      "\n",
      "        left       0.79      0.86      0.83        88\n",
      "       right       0.97      0.98      0.97       671\n",
      "      supine       0.91      0.88      0.90       242\n",
      "    outofbed       1.00      1.00      1.00       472\n",
      "       prone       0.95      0.89      0.92        81\n",
      "\n",
      "    accuracy                           0.96      1554\n",
      "   macro avg       0.92      0.92      0.92      1554\n",
      "weighted avg       0.96      0.96      0.96      1554\n",
      "\n"
     ]
    }
   ],
   "source": [
    "# Testing on testing data\n",
    "with torch.no_grad():\n",
    "    test_preds, test_true = [], []\n",
    "    model.eval()\n",
    "    for imgs, labels in test_loader:\n",
    "        imgs, labels = imgs.to(device), labels.to(device)\n",
    "        outputs = model(imgs)\n",
    "        preds = torch.argmax(outputs, dim=1)\n",
    "        test_preds.extend(preds.cpu().numpy())\n",
    "        test_true.extend(labels.cpu().numpy())\n",
    "\n",
    "    print(\"\\nTest Classification Report:\")\n",
    "    print(classification_report(test_true, test_preds, target_names=CLASSES))"
   ]
  },
  {
   "cell_type": "markdown",
   "id": "be90f79f",
   "metadata": {},
   "source": [
    "# Advanced Models\n",
    "\n",
    "CNN and SVM already provides a good baseline that has very acceptable results however, let us try more advanced models for observation and analysis"
   ]
  },
  {
   "cell_type": "markdown",
   "id": "a0cbbd2e",
   "metadata": {},
   "source": [
    "## Update the transforms"
   ]
  },
  {
   "cell_type": "code",
   "execution_count": 56,
   "id": "794e30c0",
   "metadata": {},
   "outputs": [],
   "source": [
    "train_transform = transforms.Compose(\n",
    "    [\n",
    "        transforms.Resize((224, 224)),\n",
    "        transforms.RandomRotation(degrees=10),\n",
    "        transforms.ColorJitter(brightness=0.15, contrast=0.15),\n",
    "        transforms.RandomApply([transforms.GaussianBlur(3)], p=0.3),\n",
    "        transforms.RandomApply([transforms.RandomAdjustSharpness(2)], p=0.3),\n",
    "        transforms.ToTensor(),\n",
    "        transforms.Normalize(mean=[0.485, 0.456, 0.406], std=[0.229, 0.224, 0.225]),\n",
    "        transforms.RandomErasing(p=0.15),  # moved to the end\n",
    "    ]\n",
    ")\n",
    "\n",
    "\n",
    "eval_transform = transforms.Compose(\n",
    "    [\n",
    "        transforms.Resize((224, 224)),\n",
    "        transforms.ToTensor(),\n",
    "        transforms.Normalize(mean=[0.485, 0.456, 0.406], std=[0.229, 0.224, 0.225]),\n",
    "    ]\n",
    ")"
   ]
  },
  {
   "cell_type": "code",
   "execution_count": 57,
   "id": "f3f699c7",
   "metadata": {},
   "outputs": [
    {
     "name": "stdout",
     "output_type": "stream",
     "text": [
      "Skipped 1 non-jpg files.\n",
      "Skipped 1 non-jpg files.\n",
      "Skipped 1 non-jpg files.\n",
      "Skipped 1 non-jpg files.\n"
     ]
    }
   ],
   "source": [
    "from sklearn.model_selection import train_test_split\n",
    "from torch.utils.data import Subset, DataLoader\n",
    "\n",
    "# Load dataset once (no transform yet)\n",
    "dataset_rgb = PressureDistributionDataset(train_path, CLASSES, transform=None)\n",
    "\n",
    "# Extract labels for stratified split\n",
    "labels = [label for _, label in dataset_rgb]\n",
    "\n",
    "# Split indices for train/validation\n",
    "train_idx, val_idx = train_test_split(\n",
    "    list(range(len(dataset_rgb))), test_size=0.2, stratify=labels, random_state=42\n",
    ")\n",
    "\n",
    "# Apply separate transforms to each subset\n",
    "train_ds_rgb = Subset(\n",
    "    PressureDistributionDataset(train_path, CLASSES, transform=train_transform),\n",
    "    train_idx,\n",
    ")\n",
    "val_ds_rgb = Subset(\n",
    "    PressureDistributionDataset(train_path, CLASSES, transform=eval_transform), val_idx\n",
    ")\n",
    "\n",
    "# Test set (from external VALIDATION folder)\n",
    "test_ds_rgb = PressureDistributionDataset(\n",
    "    os.path.join(root_dir, \"VALIDATION\"), CLASSES, transform=eval_transform\n",
    ")"
   ]
  },
  {
   "cell_type": "code",
   "execution_count": 60,
   "id": "a302a2ef",
   "metadata": {},
   "outputs": [
    {
     "data": {
      "image/png": "[encoded data removed]",
      "text/plain": [
       "<Figure size 640x480 with 10 Axes>"
      ]
     },
     "metadata": {},
     "output_type": "display_data"
    }
   ],
   "source": [
    "for i in range(10):\n",
    "    img, label = dataset_rgb.return_random_sample()\n",
    "\n",
    "    # Convert to NumPy directly (PIL → np.array)\n",
    "    np_img = np.array(img)\n",
    "\n",
    "    plt.subplot(2, 5, i + 1)\n",
    "    plt.imshow(np_img, cmap=\"gray\")\n",
    "    plt.title(CLASSES[label])\n",
    "    plt.axis(\"off\")\n",
    "\n",
    "plt.show()"
   ]
  },
  {
   "cell_type": "code",
   "execution_count": 61,
   "id": "cb7ad0b5",
   "metadata": {},
   "outputs": [],
   "source": [
    "batch_size = 32\n",
    "\n",
    "train_loader_rgb = DataLoader(train_ds_rgb, batch_size=batch_size, shuffle=True)\n",
    "val_loader_rgb = DataLoader(val_ds_rgb, batch_size=batch_size, shuffle=False)\n",
    "test_loader_rgb = DataLoader(test_ds_rgb, batch_size=batch_size, shuffle=False)"
   ]
  },
  {
   "cell_type": "code",
   "execution_count": 63,
   "id": "05bcb7b3",
   "metadata": {},
   "outputs": [],
   "source": [
    "# Define a function to count dataset classes\n",
    "from collections import Counter\n",
    "\n",
    "\n",
    "def get_class_counts(loader, class_names):\n",
    "    all_labels = []\n",
    "    for _, labels in loader:\n",
    "        all_labels.extend(labels.tolist())\n",
    "    counts = Counter(all_labels)\n",
    "    print(\"\\n📊 Class counts:\")\n",
    "    for i, cls in enumerate(class_names):\n",
    "        print(f\"{cls:<10}: {counts.get(i, 0)}\")"
   ]
  },
  {
   "cell_type": "code",
   "execution_count": 64,
   "id": "07c2a32f",
   "metadata": {},
   "outputs": [
    {
     "name": "stdout",
     "output_type": "stream",
     "text": [
      "\n",
      "📊 Class counts:\n",
      "left      : 336\n",
      "right     : 1052\n",
      "supine    : 582\n",
      "outofbed  : 779\n",
      "prone     : 271\n",
      "\n",
      "📊 Class counts:\n",
      "left      : 84\n",
      "right     : 263\n",
      "supine    : 146\n",
      "outofbed  : 194\n",
      "prone     : 68\n",
      "\n",
      "📊 Class counts:\n",
      "left      : 88\n",
      "right     : 671\n",
      "supine    : 242\n",
      "outofbed  : 472\n",
      "prone     : 81\n"
     ]
    }
   ],
   "source": [
    "get_class_counts(train_loader_rgb, CLASSES)\n",
    "get_class_counts(val_loader_rgb, CLASSES)\n",
    "get_class_counts(test_loader_rgb, CLASSES)"
   ]
  },
  {
   "cell_type": "markdown",
   "id": "65247ed4",
   "metadata": {},
   "source": [
    "## MobileNet_V3_small"
   ]
  },
  {
   "cell_type": "code",
   "execution_count": 65,
   "id": "d3bb5ff9",
   "metadata": {},
   "outputs": [],
   "source": [
    "from torchvision import models\n",
    "from tqdm import tqdm\n",
    "\n",
    "model = models.mobilenet_v3_small(weights=\"IMAGENET1K_V1\")\n",
    "model.classifier[-1] = nn.Linear(model.classifier[-1].in_features, len(CLASSES))\n",
    "model = model.to(device)"
   ]
  },
  {
   "cell_type": "code",
   "execution_count": 68,
   "id": "b701161e",
   "metadata": {},
   "outputs": [
    {
     "name": "stdout",
     "output_type": "stream",
     "text": [
      "Using device: mps\n",
      "\n",
      "🚀 Epoch 1/25\n"
     ]
    },
    {
     "name": "stderr",
     "output_type": "stream",
     "text": [
      "Training: 100%|██████████| 95/95 [00:58<00:00,  1.62it/s]\n"
     ]
    },
    {
     "name": "stdout",
     "output_type": "stream",
     "text": [
      "Train Loss: 0.2411\n",
      "\n",
      "🚀 Epoch 2/25\n"
     ]
    },
    {
     "name": "stderr",
     "output_type": "stream",
     "text": [
      "Training: 100%|██████████| 95/95 [00:18<00:00,  5.02it/s]\n"
     ]
    },
    {
     "name": "stdout",
     "output_type": "stream",
     "text": [
      "Train Loss: 0.2435\n",
      "\n",
      "🚀 Epoch 3/25\n"
     ]
    },
    {
     "name": "stderr",
     "output_type": "stream",
     "text": [
      "Training: 100%|██████████| 95/95 [00:19<00:00,  4.96it/s]\n"
     ]
    },
    {
     "name": "stdout",
     "output_type": "stream",
     "text": [
      "Train Loss: 0.2389\n",
      "\n",
      "🚀 Epoch 4/25\n"
     ]
    },
    {
     "name": "stderr",
     "output_type": "stream",
     "text": [
      "Training: 100%|██████████| 95/95 [00:21<00:00,  4.38it/s]\n"
     ]
    },
    {
     "name": "stdout",
     "output_type": "stream",
     "text": [
      "Train Loss: 0.2426\n",
      "\n",
      "🚀 Epoch 5/25\n"
     ]
    },
    {
     "name": "stderr",
     "output_type": "stream",
     "text": [
      "Training: 100%|██████████| 95/95 [00:18<00:00,  5.07it/s]\n"
     ]
    },
    {
     "name": "stdout",
     "output_type": "stream",
     "text": [
      "Train Loss: 0.2418\n",
      "\n",
      "🚀 Epoch 6/25\n"
     ]
    },
    {
     "name": "stderr",
     "output_type": "stream",
     "text": [
      "Training: 100%|██████████| 95/95 [00:18<00:00,  5.12it/s]\n"
     ]
    },
    {
     "name": "stdout",
     "output_type": "stream",
     "text": [
      "Train Loss: 0.2438\n",
      "\n",
      "🚀 Epoch 7/25\n"
     ]
    },
    {
     "name": "stderr",
     "output_type": "stream",
     "text": [
      "Training: 100%|██████████| 95/95 [00:18<00:00,  5.06it/s]\n"
     ]
    },
    {
     "name": "stdout",
     "output_type": "stream",
     "text": [
      "Train Loss: 0.2422\n",
      "\n",
      "🚀 Epoch 8/25\n"
     ]
    },
    {
     "name": "stderr",
     "output_type": "stream",
     "text": [
      "Training: 100%|██████████| 95/95 [00:18<00:00,  5.12it/s]\n"
     ]
    },
    {
     "name": "stdout",
     "output_type": "stream",
     "text": [
      "Train Loss: 0.2392\n",
      "\n",
      "🚀 Epoch 9/25\n"
     ]
    },
    {
     "name": "stderr",
     "output_type": "stream",
     "text": [
      "Training: 100%|██████████| 95/95 [00:18<00:00,  5.12it/s]\n"
     ]
    },
    {
     "name": "stdout",
     "output_type": "stream",
     "text": [
      "Train Loss: 0.2403\n",
      "\n",
      "🚀 Epoch 10/25\n"
     ]
    },
    {
     "name": "stderr",
     "output_type": "stream",
     "text": [
      "Training: 100%|██████████| 95/95 [00:18<00:00,  5.09it/s]\n"
     ]
    },
    {
     "name": "stdout",
     "output_type": "stream",
     "text": [
      "Train Loss: 0.2393\n",
      "\n",
      "🚀 Epoch 11/25\n"
     ]
    },
    {
     "name": "stderr",
     "output_type": "stream",
     "text": [
      "Training: 100%|██████████| 95/95 [00:19<00:00,  5.00it/s]\n"
     ]
    },
    {
     "name": "stdout",
     "output_type": "stream",
     "text": [
      "Train Loss: 0.2390\n",
      "\n",
      "🚀 Epoch 12/25\n"
     ]
    },
    {
     "name": "stderr",
     "output_type": "stream",
     "text": [
      "Training: 100%|██████████| 95/95 [00:18<00:00,  5.11it/s]\n"
     ]
    },
    {
     "name": "stdout",
     "output_type": "stream",
     "text": [
      "Train Loss: 0.2403\n",
      "\n",
      "🚀 Epoch 13/25\n"
     ]
    },
    {
     "name": "stderr",
     "output_type": "stream",
     "text": [
      "Training: 100%|██████████| 95/95 [00:18<00:00,  5.10it/s]\n"
     ]
    },
    {
     "name": "stdout",
     "output_type": "stream",
     "text": [
      "Train Loss: 0.2376\n",
      "\n",
      "🚀 Epoch 14/25\n"
     ]
    },
    {
     "name": "stderr",
     "output_type": "stream",
     "text": [
      "Training: 100%|██████████| 95/95 [00:18<00:00,  5.07it/s]\n"
     ]
    },
    {
     "name": "stdout",
     "output_type": "stream",
     "text": [
      "Train Loss: 0.2404\n",
      "\n",
      "🚀 Epoch 15/25\n"
     ]
    },
    {
     "name": "stderr",
     "output_type": "stream",
     "text": [
      "Training: 100%|██████████| 95/95 [00:18<00:00,  5.04it/s]\n"
     ]
    },
    {
     "name": "stdout",
     "output_type": "stream",
     "text": [
      "Train Loss: 0.2394\n",
      "\n",
      "🚀 Epoch 16/25\n"
     ]
    },
    {
     "name": "stderr",
     "output_type": "stream",
     "text": [
      "Training: 100%|██████████| 95/95 [00:18<00:00,  5.08it/s]\n"
     ]
    },
    {
     "name": "stdout",
     "output_type": "stream",
     "text": [
      "Train Loss: 0.2391\n",
      "\n",
      "🚀 Epoch 17/25\n"
     ]
    },
    {
     "name": "stderr",
     "output_type": "stream",
     "text": [
      "Training: 100%|██████████| 95/95 [00:18<00:00,  5.13it/s]\n"
     ]
    },
    {
     "name": "stdout",
     "output_type": "stream",
     "text": [
      "Train Loss: 0.2362\n",
      "\n",
      "🚀 Epoch 18/25\n"
     ]
    },
    {
     "name": "stderr",
     "output_type": "stream",
     "text": [
      "Training: 100%|██████████| 95/95 [00:18<00:00,  5.09it/s]\n"
     ]
    },
    {
     "name": "stdout",
     "output_type": "stream",
     "text": [
      "Train Loss: 0.2355\n",
      "\n",
      "🚀 Epoch 19/25\n"
     ]
    },
    {
     "name": "stderr",
     "output_type": "stream",
     "text": [
      "Training: 100%|██████████| 95/95 [00:18<00:00,  5.10it/s]\n"
     ]
    },
    {
     "name": "stdout",
     "output_type": "stream",
     "text": [
      "Train Loss: 0.2340\n",
      "\n",
      "🚀 Epoch 20/25\n"
     ]
    },
    {
     "name": "stderr",
     "output_type": "stream",
     "text": [
      "Training: 100%|██████████| 95/95 [00:18<00:00,  5.10it/s]\n"
     ]
    },
    {
     "name": "stdout",
     "output_type": "stream",
     "text": [
      "Train Loss: 0.2402\n",
      "\n",
      "🚀 Epoch 21/25\n"
     ]
    },
    {
     "name": "stderr",
     "output_type": "stream",
     "text": [
      "Training: 100%|██████████| 95/95 [00:18<00:00,  5.06it/s]\n"
     ]
    },
    {
     "name": "stdout",
     "output_type": "stream",
     "text": [
      "Train Loss: 0.2343\n",
      "\n",
      "🚀 Epoch 22/25\n"
     ]
    },
    {
     "name": "stderr",
     "output_type": "stream",
     "text": [
      "Training: 100%|██████████| 95/95 [00:19<00:00,  4.95it/s]\n"
     ]
    },
    {
     "name": "stdout",
     "output_type": "stream",
     "text": [
      "Train Loss: 0.2383\n",
      "\n",
      "🚀 Epoch 23/25\n"
     ]
    },
    {
     "name": "stderr",
     "output_type": "stream",
     "text": [
      "Training: 100%|██████████| 95/95 [00:18<00:00,  5.01it/s]\n"
     ]
    },
    {
     "name": "stdout",
     "output_type": "stream",
     "text": [
      "Train Loss: 0.2355\n",
      "\n",
      "🚀 Epoch 24/25\n"
     ]
    },
    {
     "name": "stderr",
     "output_type": "stream",
     "text": [
      "Training: 100%|██████████| 95/95 [00:18<00:00,  5.05it/s]\n"
     ]
    },
    {
     "name": "stdout",
     "output_type": "stream",
     "text": [
      "Train Loss: 0.2364\n",
      "\n",
      "🚀 Epoch 25/25\n"
     ]
    },
    {
     "name": "stderr",
     "output_type": "stream",
     "text": [
      "Training: 100%|██████████| 95/95 [00:37<00:00,  2.55it/s]\n"
     ]
    },
    {
     "name": "stdout",
     "output_type": "stream",
     "text": [
      "Train Loss: 0.2378\n"
     ]
    },
    {
     "name": "stderr",
     "output_type": "stream",
     "text": [
      "Evaluating: 100%|██████████| 24/24 [00:02<00:00, 11.23it/s]\n"
     ]
    }
   ],
   "source": [
    "import mlflow\n",
    "import torch\n",
    "import torch.nn as nn\n",
    "from sklearn.metrics import classification_report, accuracy_score\n",
    "from tqdm import tqdm\n",
    "\n",
    "num_epochs = 25\n",
    "criterion = nn.CrossEntropyLoss(label_smoothing=0.05)\n",
    "optimizer = torch.optim.Adam(model.parameters(), lr=1e-4)\n",
    "print(\"Using device:\", device)\n",
    "\n",
    "mlflow.set_experiment(\"Pressure_Posture_Detection\")\n",
    "\n",
    "with mlflow.start_run(run_name=\"MobileNetV3_Small\"):\n",
    "    mlflow.log_params({\"model\": \"MobileNetV3_Small\", \"epochs\": num_epochs, \"lr\": 1e-4})\n",
    "\n",
    "    # --- Training loop ---\n",
    "    for epoch in range(num_epochs):\n",
    "        print(f\"\\n🚀 Epoch {epoch+1}/{num_epochs}\")\n",
    "        model.train()\n",
    "        running_loss = 0.0\n",
    "\n",
    "        for imgs, labels in tqdm(train_loader_rgb, desc=\"Training\"):\n",
    "            imgs, labels = imgs.to(device), labels.to(device)\n",
    "            optimizer.zero_grad()\n",
    "            outputs = model(imgs)\n",
    "            loss = criterion(outputs, labels)\n",
    "            loss.backward()\n",
    "            optimizer.step()\n",
    "            running_loss += loss.item()\n",
    "\n",
    "        avg_train_loss = running_loss / len(train_loader_rgb)\n",
    "        print(f\"Train Loss: {avg_train_loss:.4f}\")\n",
    "\n",
    "    # --- Final Evaluation ---\n",
    "    model.eval()\n",
    "    val_preds, val_true = [], []\n",
    "    with torch.no_grad():\n",
    "        for imgs, labels in tqdm(val_loader_rgb, desc=\"Evaluating\"):\n",
    "            imgs, labels = imgs.to(device), labels.to(device)\n",
    "            outputs = model(imgs)\n",
    "            preds = torch.argmax(outputs, dim=1)\n",
    "            val_preds.extend(preds.cpu().numpy())\n",
    "            val_true.extend(labels.cpu().numpy())\n",
    "\n",
    "    # --- Compute metrics once ---\n",
    "    report = classification_report(\n",
    "        y_true=val_true, y_pred=val_preds, target_names=CLASSES, output_dict=True\n",
    "    )\n",
    "    val_acc = accuracy_score(val_true, val_preds)\n",
    "    macro_f1 = report[\"macro avg\"][\"f1-score\"]\n",
    "\n",
    "    mlflow.log_metrics(\n",
    "        {\"val_accuracy\": round(val_acc, 3), \"val_macro_f1\": round(macro_f1, 3)}\n",
    "    )\n",
    "\n",
    "    log_classification_report_html(report, model_name=\"MobileNetV3_Small\")\n",
    "\n",
    "    # --- Save model ---\n",
    "    torch.save(model.state_dict(), \"models/mobilenetv3_small.pth\")"
   ]
  },
  {
   "cell_type": "code",
   "execution_count": 71,
   "id": "d0abdd68",
   "metadata": {},
   "outputs": [
    {
     "name": "stderr",
     "output_type": "stream",
     "text": [
      "Testing: 100%|██████████| 49/49 [00:16<00:00,  2.96it/s]"
     ]
    },
    {
     "name": "stdout",
     "output_type": "stream",
     "text": [
      "📊 Classification Report:\n",
      "              precision    recall  f1-score   support\n",
      "\n",
      "        left       0.92      0.91      0.91        88\n",
      "       right       0.98      0.97      0.98       671\n",
      "      supine       0.91      0.93      0.92       242\n",
      "    outofbed       1.00      1.00      1.00       472\n",
      "       prone       0.95      0.95      0.95        81\n",
      "\n",
      "    accuracy                           0.97      1554\n",
      "   macro avg       0.95      0.95      0.95      1554\n",
      "weighted avg       0.97      0.97      0.97      1554\n",
      "\n"
     ]
    },
    {
     "name": "stderr",
     "output_type": "stream",
     "text": [
      "\n"
     ]
    }
   ],
   "source": [
    "# Testing on testing data\n",
    "model.eval()\n",
    "all_preds, all_labels = [], []\n",
    "\n",
    "with torch.no_grad():\n",
    "    for imgs, labels in tqdm(test_loader_rgb, desc=\"Testing\"):\n",
    "        imgs, labels = imgs.to(device), labels.to(device)\n",
    "        outputs = model(imgs)\n",
    "        preds = torch.argmax(outputs, dim=1)\n",
    "        all_preds.extend(preds.cpu().numpy())\n",
    "        all_labels.extend(labels.cpu().numpy())\n",
    "\n",
    "# Convert to arrays\n",
    "all_preds = np.array(all_preds)\n",
    "all_labels = np.array(all_labels)\n",
    "\n",
    "print(\"📊 Classification Report:\")\n",
    "print(classification_report(all_labels, all_preds, target_names=CLASSES))"
   ]
  },
  {
   "cell_type": "markdown",
   "id": "da18ad63",
   "metadata": {},
   "source": [
    "### Fine-tuned MobileNetV3Small"
   ]
  },
  {
   "cell_type": "code",
   "execution_count": 74,
   "id": "5e2a9328",
   "metadata": {},
   "outputs": [],
   "source": [
    "from torchvision import models\n",
    "from tqdm import tqdm\n",
    "from torch import nn\n",
    "import torch\n",
    "\n",
    "device = torch.device(\"mps\" if torch.backends.mps.is_available() else \"cpu\")\n",
    "\n",
    "model = models.mobilenet_v3_small(weights=\"IMAGENET1K_V1\")\n",
    "model.classifier[-1] = nn.Linear(model.classifier[-1].in_features, len(CLASSES))\n",
    "model = model.to(device)"
   ]
  },
  {
   "cell_type": "markdown",
   "id": "60ba3fcd",
   "metadata": {},
   "source": [
    "Adding scheduler for dynamic Learning rate"
   ]
  },
  {
   "cell_type": "code",
   "execution_count": 76,
   "id": "55230141",
   "metadata": {},
   "outputs": [
    {
     "name": "stdout",
     "output_type": "stream",
     "text": [
      "Using device: mps\n",
      "\n",
      "🚀 Epoch 1/25\n"
     ]
    },
    {
     "name": "stderr",
     "output_type": "stream",
     "text": [
      "Training: 100%|██████████| 95/95 [00:31<00:00,  2.98it/s]\n",
      "Validating: 100%|██████████| 24/24 [00:01<00:00, 18.87it/s]\n"
     ]
    },
    {
     "name": "stdout",
     "output_type": "stream",
     "text": [
      "Train Loss: 0.3081 | Val Loss: 0.3283 | Val Acc: 0.9656 | Macro F1: 0.9541\n",
      "\n",
      "🚀 Epoch 2/25\n"
     ]
    },
    {
     "name": "stderr",
     "output_type": "stream",
     "text": [
      "Training: 100%|██████████| 95/95 [00:19<00:00,  4.97it/s]\n",
      "Validating: 100%|██████████| 24/24 [00:01<00:00, 19.66it/s]\n"
     ]
    },
    {
     "name": "stdout",
     "output_type": "stream",
     "text": [
      "Train Loss: 0.2976 | Val Loss: 0.3257 | Val Acc: 0.9629 | Macro F1: 0.9535\n",
      "\n",
      "🚀 Epoch 3/25\n"
     ]
    },
    {
     "name": "stderr",
     "output_type": "stream",
     "text": [
      "Training: 100%|██████████| 95/95 [00:19<00:00,  4.99it/s]\n",
      "Validating: 100%|██████████| 24/24 [00:01<00:00, 20.27it/s]\n"
     ]
    },
    {
     "name": "stdout",
     "output_type": "stream",
     "text": [
      "Train Loss: 0.2998 | Val Loss: 0.3275 | Val Acc: 0.9629 | Macro F1: 0.9556\n",
      "\n",
      "🚀 Epoch 4/25\n"
     ]
    },
    {
     "name": "stderr",
     "output_type": "stream",
     "text": [
      "Training: 100%|██████████| 95/95 [00:18<00:00,  5.11it/s]\n",
      "Validating: 100%|██████████| 24/24 [00:01<00:00, 20.00it/s]\n"
     ]
    },
    {
     "name": "stdout",
     "output_type": "stream",
     "text": [
      "Train Loss: 0.2951 | Val Loss: 0.3209 | Val Acc: 0.9682 | Macro F1: 0.9607\n",
      "\n",
      "🚀 Epoch 5/25\n"
     ]
    },
    {
     "name": "stderr",
     "output_type": "stream",
     "text": [
      "Training: 100%|██████████| 95/95 [00:18<00:00,  5.05it/s]\n",
      "Validating: 100%|██████████| 24/24 [00:01<00:00, 19.85it/s]\n"
     ]
    },
    {
     "name": "stdout",
     "output_type": "stream",
     "text": [
      "Train Loss: 0.2900 | Val Loss: 0.3239 | Val Acc: 0.9642 | Macro F1: 0.9564\n",
      "\n",
      "🚀 Epoch 6/25\n"
     ]
    },
    {
     "name": "stderr",
     "output_type": "stream",
     "text": [
      "Training: 100%|██████████| 95/95 [00:18<00:00,  5.07it/s]\n",
      "Validating: 100%|██████████| 24/24 [00:01<00:00, 19.13it/s]\n"
     ]
    },
    {
     "name": "stdout",
     "output_type": "stream",
     "text": [
      "Train Loss: 0.2907 | Val Loss: 0.3117 | Val Acc: 0.9682 | Macro F1: 0.9613\n",
      "\n",
      "🚀 Epoch 7/25\n"
     ]
    },
    {
     "name": "stderr",
     "output_type": "stream",
     "text": [
      "Training: 100%|██████████| 95/95 [00:18<00:00,  5.14it/s]\n",
      "Validating: 100%|██████████| 24/24 [00:01<00:00, 19.75it/s]\n"
     ]
    },
    {
     "name": "stdout",
     "output_type": "stream",
     "text": [
      "Train Loss: 0.2824 | Val Loss: 0.3107 | Val Acc: 0.9695 | Macro F1: 0.9628\n",
      "\n",
      "🚀 Epoch 8/25\n"
     ]
    },
    {
     "name": "stderr",
     "output_type": "stream",
     "text": [
      "Training: 100%|██████████| 95/95 [00:18<00:00,  5.08it/s]\n",
      "Validating: 100%|██████████| 24/24 [00:01<00:00, 19.97it/s]\n"
     ]
    },
    {
     "name": "stdout",
     "output_type": "stream",
     "text": [
      "Train Loss: 0.2818 | Val Loss: 0.3151 | Val Acc: 0.9709 | Macro F1: 0.9657\n",
      "\n",
      "🚀 Epoch 9/25\n"
     ]
    },
    {
     "name": "stderr",
     "output_type": "stream",
     "text": [
      "Training: 100%|██████████| 95/95 [00:18<00:00,  5.04it/s]\n",
      "Validating: 100%|██████████| 24/24 [00:01<00:00, 19.44it/s]\n"
     ]
    },
    {
     "name": "stdout",
     "output_type": "stream",
     "text": [
      "Train Loss: 0.2828 | Val Loss: 0.3076 | Val Acc: 0.9722 | Macro F1: 0.9657\n",
      "\n",
      "🚀 Epoch 10/25\n"
     ]
    },
    {
     "name": "stderr",
     "output_type": "stream",
     "text": [
      "Training: 100%|██████████| 95/95 [00:18<00:00,  5.12it/s]\n",
      "Validating: 100%|██████████| 24/24 [00:01<00:00, 18.10it/s]\n"
     ]
    },
    {
     "name": "stdout",
     "output_type": "stream",
     "text": [
      "Train Loss: 0.2732 | Val Loss: 0.3123 | Val Acc: 0.9709 | Macro F1: 0.9647\n",
      "\n",
      "🚀 Epoch 11/25\n"
     ]
    },
    {
     "name": "stderr",
     "output_type": "stream",
     "text": [
      "Training: 100%|██████████| 95/95 [00:18<00:00,  5.03it/s]\n",
      "Validating: 100%|██████████| 24/24 [00:01<00:00, 18.45it/s]\n"
     ]
    },
    {
     "name": "stdout",
     "output_type": "stream",
     "text": [
      "Train Loss: 0.2754 | Val Loss: 0.3086 | Val Acc: 0.9695 | Macro F1: 0.9601\n",
      "\n",
      "🚀 Epoch 12/25\n"
     ]
    },
    {
     "name": "stderr",
     "output_type": "stream",
     "text": [
      "Training: 100%|██████████| 95/95 [00:21<00:00,  4.49it/s]\n",
      "Validating: 100%|██████████| 24/24 [00:01<00:00, 16.41it/s]\n"
     ]
    },
    {
     "name": "stdout",
     "output_type": "stream",
     "text": [
      "Train Loss: 0.2751 | Val Loss: 0.3139 | Val Acc: 0.9709 | Macro F1: 0.9623\n",
      "\n",
      "🚀 Epoch 13/25\n"
     ]
    },
    {
     "name": "stderr",
     "output_type": "stream",
     "text": [
      "Training: 100%|██████████| 95/95 [00:19<00:00,  4.88it/s]\n",
      "Validating: 100%|██████████| 24/24 [00:01<00:00, 18.10it/s]\n"
     ]
    },
    {
     "name": "stdout",
     "output_type": "stream",
     "text": [
      "Train Loss: 0.2705 | Val Loss: 0.3090 | Val Acc: 0.9695 | Macro F1: 0.9620\n",
      "\n",
      "🚀 Epoch 14/25\n"
     ]
    },
    {
     "name": "stderr",
     "output_type": "stream",
     "text": [
      "Training: 100%|██████████| 95/95 [00:19<00:00,  4.76it/s]\n",
      "Validating: 100%|██████████| 24/24 [00:01<00:00, 17.93it/s]\n"
     ]
    },
    {
     "name": "stdout",
     "output_type": "stream",
     "text": [
      "Train Loss: 0.2745 | Val Loss: 0.3096 | Val Acc: 0.9722 | Macro F1: 0.9649\n",
      "\n",
      "🚀 Epoch 15/25\n"
     ]
    },
    {
     "name": "stderr",
     "output_type": "stream",
     "text": [
      "Training: 100%|██████████| 95/95 [00:20<00:00,  4.75it/s]\n",
      "Validating: 100%|██████████| 24/24 [00:01<00:00, 19.37it/s]\n"
     ]
    },
    {
     "name": "stdout",
     "output_type": "stream",
     "text": [
      "Train Loss: 0.2727 | Val Loss: 0.3095 | Val Acc: 0.9695 | Macro F1: 0.9610\n",
      "\n",
      "🚀 Epoch 16/25\n"
     ]
    },
    {
     "name": "stderr",
     "output_type": "stream",
     "text": [
      "Training: 100%|██████████| 95/95 [00:18<00:00,  5.04it/s]\n",
      "Validating: 100%|██████████| 24/24 [00:01<00:00, 19.04it/s]\n"
     ]
    },
    {
     "name": "stdout",
     "output_type": "stream",
     "text": [
      "Train Loss: 0.2766 | Val Loss: 0.3135 | Val Acc: 0.9709 | Macro F1: 0.9637\n",
      "\n",
      "🚀 Epoch 17/25\n"
     ]
    },
    {
     "name": "stderr",
     "output_type": "stream",
     "text": [
      "Training: 100%|██████████| 95/95 [00:19<00:00,  4.90it/s]\n",
      "Validating: 100%|██████████| 24/24 [00:01<00:00, 18.96it/s]\n"
     ]
    },
    {
     "name": "stdout",
     "output_type": "stream",
     "text": [
      "Train Loss: 0.2729 | Val Loss: 0.3090 | Val Acc: 0.9722 | Macro F1: 0.9663\n",
      "\n",
      "🚀 Epoch 18/25\n"
     ]
    },
    {
     "name": "stderr",
     "output_type": "stream",
     "text": [
      "Training: 100%|██████████| 95/95 [00:19<00:00,  4.95it/s]\n",
      "Validating: 100%|██████████| 24/24 [00:01<00:00, 17.55it/s]\n"
     ]
    },
    {
     "name": "stdout",
     "output_type": "stream",
     "text": [
      "Train Loss: 0.2718 | Val Loss: 0.3092 | Val Acc: 0.9722 | Macro F1: 0.9655\n",
      "\n",
      "🚀 Epoch 19/25\n"
     ]
    },
    {
     "name": "stderr",
     "output_type": "stream",
     "text": [
      "Training: 100%|██████████| 95/95 [00:19<00:00,  4.99it/s]\n",
      "Validating: 100%|██████████| 24/24 [00:01<00:00, 17.56it/s]\n"
     ]
    },
    {
     "name": "stdout",
     "output_type": "stream",
     "text": [
      "Train Loss: 0.2704 | Val Loss: 0.3079 | Val Acc: 0.9709 | Macro F1: 0.9628\n",
      "\n",
      "🚀 Epoch 20/25\n"
     ]
    },
    {
     "name": "stderr",
     "output_type": "stream",
     "text": [
      "Training: 100%|██████████| 95/95 [00:18<00:00,  5.03it/s]\n",
      "Validating: 100%|██████████| 24/24 [00:01<00:00, 18.60it/s]\n"
     ]
    },
    {
     "name": "stdout",
     "output_type": "stream",
     "text": [
      "Train Loss: 0.2732 | Val Loss: 0.3092 | Val Acc: 0.9722 | Macro F1: 0.9655\n",
      "\n",
      "🚀 Epoch 21/25\n"
     ]
    },
    {
     "name": "stderr",
     "output_type": "stream",
     "text": [
      "Training: 100%|██████████| 95/95 [00:18<00:00,  5.03it/s]\n",
      "Validating: 100%|██████████| 24/24 [00:01<00:00, 17.23it/s]\n"
     ]
    },
    {
     "name": "stdout",
     "output_type": "stream",
     "text": [
      "Train Loss: 0.2648 | Val Loss: 0.3094 | Val Acc: 0.9735 | Macro F1: 0.9666\n",
      "\n",
      "🚀 Epoch 22/25\n"
     ]
    },
    {
     "name": "stderr",
     "output_type": "stream",
     "text": [
      "Training: 100%|██████████| 95/95 [00:18<00:00,  5.06it/s]\n",
      "Validating: 100%|██████████| 24/24 [00:01<00:00, 19.53it/s]\n"
     ]
    },
    {
     "name": "stdout",
     "output_type": "stream",
     "text": [
      "Train Loss: 0.2630 | Val Loss: 0.3089 | Val Acc: 0.9722 | Macro F1: 0.9655\n",
      "\n",
      "🚀 Epoch 23/25\n"
     ]
    },
    {
     "name": "stderr",
     "output_type": "stream",
     "text": [
      "Training: 100%|██████████| 95/95 [00:19<00:00,  5.00it/s]\n",
      "Validating: 100%|██████████| 24/24 [00:01<00:00, 17.65it/s]\n"
     ]
    },
    {
     "name": "stdout",
     "output_type": "stream",
     "text": [
      "Train Loss: 0.2700 | Val Loss: 0.3086 | Val Acc: 0.9722 | Macro F1: 0.9655\n",
      "\n",
      "🚀 Epoch 24/25\n"
     ]
    },
    {
     "name": "stderr",
     "output_type": "stream",
     "text": [
      "Training: 100%|██████████| 95/95 [00:19<00:00,  4.94it/s]\n",
      "Validating: 100%|██████████| 24/24 [00:01<00:00, 16.55it/s]\n"
     ]
    },
    {
     "name": "stdout",
     "output_type": "stream",
     "text": [
      "Train Loss: 0.2681 | Val Loss: 0.3083 | Val Acc: 0.9722 | Macro F1: 0.9655\n",
      "\n",
      "🚀 Epoch 25/25\n"
     ]
    },
    {
     "name": "stderr",
     "output_type": "stream",
     "text": [
      "Training: 100%|██████████| 95/95 [00:18<00:00,  5.01it/s]\n",
      "Validating: 100%|██████████| 24/24 [00:01<00:00, 18.94it/s]\n"
     ]
    },
    {
     "name": "stdout",
     "output_type": "stream",
     "text": [
      "Train Loss: 0.2637 | Val Loss: 0.3082 | Val Acc: 0.9722 | Macro F1: 0.9655\n"
     ]
    }
   ],
   "source": [
    "import mlflow\n",
    "import torch\n",
    "import torch.nn as nn\n",
    "from sklearn.metrics import classification_report, accuracy_score\n",
    "from tqdm import tqdm\n",
    "\n",
    "num_epochs = 25\n",
    "criterion = nn.CrossEntropyLoss(label_smoothing=0.05)\n",
    "optimizer = torch.optim.AdamW(model.parameters(), lr=5e-5, weight_decay=1e-4)\n",
    "scheduler = torch.optim.lr_scheduler.CosineAnnealingLR(optimizer, T_max=num_epochs)\n",
    "\n",
    "print(\"Using device:\", device)\n",
    "mlflow.set_experiment(\"Pressure_Posture_Detection\")\n",
    "\n",
    "with mlflow.start_run(run_name=\"MobileNetV3_Small_scheduler\"):\n",
    "    mlflow.log_params(\n",
    "        {\n",
    "            \"model\": \"MobileNetV3_Small\",\n",
    "            \"epochs\": num_epochs,\n",
    "            \"lr\": 5e-5,\n",
    "            \"weight_decay\": 1e-4,\n",
    "            \"scheduler\": \"CosineAnnealingLR\",\n",
    "        }\n",
    "    )\n",
    "\n",
    "    for epoch in range(num_epochs):\n",
    "        print(f\"\\n🚀 Epoch {epoch+1}/{num_epochs}\")\n",
    "        model.train()\n",
    "        running_loss = 0.0\n",
    "\n",
    "        # --- Training phase ---\n",
    "        for imgs, labels in tqdm(train_loader_rgb, desc=\"Training\"):\n",
    "            imgs, labels = imgs.to(device), labels.to(device)\n",
    "            optimizer.zero_grad()\n",
    "            outputs = model(imgs)\n",
    "            loss = criterion(outputs, labels)\n",
    "            loss.backward()\n",
    "            optimizer.step()\n",
    "            running_loss += loss.item()\n",
    "\n",
    "        avg_train_loss = running_loss / len(train_loader_rgb)\n",
    "\n",
    "        # --- Validation phase ---\n",
    "        model.eval()\n",
    "        val_preds, val_true = [], []\n",
    "        val_loss = 0.0\n",
    "        with torch.no_grad():\n",
    "            for imgs, labels in tqdm(val_loader_rgb, desc=\"Validating\"):\n",
    "                imgs, labels = imgs.to(device), labels.to(device)\n",
    "                outputs = model(imgs)\n",
    "                loss = criterion(outputs, labels)\n",
    "                val_loss += loss.item()\n",
    "                preds = outputs.argmax(dim=1)\n",
    "                val_preds.extend(preds.cpu().numpy())\n",
    "                val_true.extend(labels.cpu().numpy())\n",
    "\n",
    "        scheduler.step()\n",
    "\n",
    "        avg_val_loss = val_loss / len(val_loader_rgb)\n",
    "        val_acc = accuracy_score(val_true, val_preds)\n",
    "        macro_f1 = classification_report(\n",
    "            val_true, val_preds, target_names=CLASSES, output_dict=True\n",
    "        )[\"macro avg\"][\"f1-score\"]\n",
    "        print(\n",
    "            f\"Train Loss: {avg_train_loss:.4f} | Val Loss: {avg_val_loss:.4f} | Val Acc: {val_acc:.4f} | Macro F1: {macro_f1:.4f}\"\n",
    "        )\n",
    "\n",
    "    # --- Compute metrics once ---\n",
    "    report = classification_report(\n",
    "        y_true=val_true, y_pred=val_preds, target_names=CLASSES, output_dict=True\n",
    "    )\n",
    "    val_acc = accuracy_score(val_true, val_preds)\n",
    "    macro_f1 = report[\"macro avg\"][\"f1-score\"]\n",
    "\n",
    "    mlflow.log_metrics(\n",
    "        {\"val_accuracy\": round(val_acc, 3), \"val_macro_f1\": round(macro_f1, 3)}\n",
    "    )\n",
    "\n",
    "    log_classification_report_html(report, model_name=\"MobileNetV3_Small_scheduler\")\n",
    "\n",
    "    # --- Save model ---\n",
    "    torch.save(model.state_dict(), \"models/mobilenetv3_small_scheduler.pth\")"
   ]
  },
  {
   "cell_type": "code",
   "execution_count": 77,
   "id": "0144f84b",
   "metadata": {},
   "outputs": [
    {
     "name": "stdout",
     "output_type": "stream",
     "text": [
      "              precision    recall  f1-score   support\n",
      "\n",
      "        left       0.93      0.93      0.93        88\n",
      "       right       0.98      0.97      0.97       671\n",
      "      supine       0.90      0.94      0.92       242\n",
      "    outofbed       1.00      1.00      1.00       472\n",
      "       prone       0.99      0.91      0.95        81\n",
      "\n",
      "    accuracy                           0.97      1554\n",
      "   macro avg       0.96      0.95      0.95      1554\n",
      "weighted avg       0.97      0.97      0.97      1554\n",
      "\n"
     ]
    }
   ],
   "source": [
    "from sklearn.metrics import classification_report\n",
    "\n",
    "model.eval()\n",
    "all_preds, all_labels = [], []\n",
    "with torch.no_grad():\n",
    "    for imgs, labels in test_loader_rgb:\n",
    "        imgs, labels = imgs.to(device), labels.to(device)\n",
    "        outputs = model(imgs)\n",
    "        preds = outputs.argmax(dim=1)\n",
    "        all_preds.extend(preds.cpu().numpy())\n",
    "\n",
    "        all_labels.extend(labels.cpu().numpy())\n",
    "\n",
    "print(classification_report(all_labels, all_preds, target_names=CLASSES))"
   ]
  },
  {
   "cell_type": "markdown",
   "id": "74e229db",
   "metadata": {},
   "source": [
    "## VitTinyPatch16 - 224"
   ]
  },
  {
   "cell_type": "code",
   "execution_count": 78,
   "id": "00c44bc8",
   "metadata": {},
   "outputs": [],
   "source": [
    "import timm, torch.nn as nn\n",
    "from tqdm import tqdm\n",
    "import torch\n",
    "\n",
    "device = torch.device(\"mps\" if torch.backends.mps.is_available() else \"cpu\")\n",
    "\n",
    "model = timm.create_model(\"vit_tiny_patch16_224\", pretrained=True)\n",
    "model.head = nn.Linear(model.head.in_features, len(CLASSES))\n",
    "model = model.to(device)"
   ]
  },
  {
   "cell_type": "code",
   "execution_count": 79,
   "id": "f7144d93",
   "metadata": {},
   "outputs": [
    {
     "name": "stdout",
     "output_type": "stream",
     "text": [
      "Using device: mps\n",
      "\n",
      "🚀 Epoch 1/25\n"
     ]
    },
    {
     "name": "stderr",
     "output_type": "stream",
     "text": [
      "Training: 100%|██████████| 95/95 [00:52<00:00,  1.81it/s]\n",
      "Validating: 100%|██████████| 24/24 [00:03<00:00,  6.05it/s]\n"
     ]
    },
    {
     "name": "stdout",
     "output_type": "stream",
     "text": [
      "Train Loss: 0.7724 | Val Loss: 0.5577 | Val Acc: 0.8662 | Macro F1: 0.8203\n",
      "\n",
      "🚀 Epoch 2/25\n"
     ]
    },
    {
     "name": "stderr",
     "output_type": "stream",
     "text": [
      "Training: 100%|██████████| 95/95 [00:40<00:00,  2.37it/s]\n",
      "Validating: 100%|██████████| 24/24 [00:03<00:00,  6.06it/s]\n"
     ]
    },
    {
     "name": "stdout",
     "output_type": "stream",
     "text": [
      "Train Loss: 0.5170 | Val Loss: 0.4388 | Val Acc: 0.9139 | Macro F1: 0.8832\n",
      "\n",
      "🚀 Epoch 3/25\n"
     ]
    },
    {
     "name": "stderr",
     "output_type": "stream",
     "text": [
      "Training: 100%|██████████| 95/95 [00:39<00:00,  2.38it/s]\n",
      "Validating: 100%|██████████| 24/24 [00:03<00:00,  6.20it/s]\n"
     ]
    },
    {
     "name": "stdout",
     "output_type": "stream",
     "text": [
      "Train Loss: 0.4322 | Val Loss: 0.3809 | Val Acc: 0.9430 | Macro F1: 0.9282\n",
      "\n",
      "🚀 Epoch 4/25\n"
     ]
    },
    {
     "name": "stderr",
     "output_type": "stream",
     "text": [
      "Training: 100%|██████████| 95/95 [00:39<00:00,  2.40it/s]\n",
      "Validating: 100%|██████████| 24/24 [00:03<00:00,  6.30it/s]\n"
     ]
    },
    {
     "name": "stdout",
     "output_type": "stream",
     "text": [
      "Train Loss: 0.4047 | Val Loss: 0.3706 | Val Acc: 0.9483 | Macro F1: 0.9343\n",
      "\n",
      "🚀 Epoch 5/25\n"
     ]
    },
    {
     "name": "stderr",
     "output_type": "stream",
     "text": [
      "Training: 100%|██████████| 95/95 [00:39<00:00,  2.41it/s]\n",
      "Validating: 100%|██████████| 24/24 [00:03<00:00,  6.59it/s]\n"
     ]
    },
    {
     "name": "stdout",
     "output_type": "stream",
     "text": [
      "Train Loss: 0.3711 | Val Loss: 0.3746 | Val Acc: 0.9470 | Macro F1: 0.9344\n",
      "\n",
      "🚀 Epoch 6/25\n"
     ]
    },
    {
     "name": "stderr",
     "output_type": "stream",
     "text": [
      "Training: 100%|██████████| 95/95 [00:39<00:00,  2.39it/s]\n",
      "Validating: 100%|██████████| 24/24 [00:03<00:00,  6.26it/s]\n"
     ]
    },
    {
     "name": "stdout",
     "output_type": "stream",
     "text": [
      "Train Loss: 0.3645 | Val Loss: 0.3638 | Val Acc: 0.9510 | Macro F1: 0.9383\n",
      "\n",
      "🚀 Epoch 7/25\n"
     ]
    },
    {
     "name": "stderr",
     "output_type": "stream",
     "text": [
      "Training: 100%|██████████| 95/95 [00:39<00:00,  2.39it/s]\n",
      "Validating: 100%|██████████| 24/24 [00:03<00:00,  6.14it/s]\n"
     ]
    },
    {
     "name": "stdout",
     "output_type": "stream",
     "text": [
      "Train Loss: 0.3527 | Val Loss: 0.3647 | Val Acc: 0.9536 | Macro F1: 0.9427\n",
      "\n",
      "🚀 Epoch 8/25\n"
     ]
    },
    {
     "name": "stderr",
     "output_type": "stream",
     "text": [
      "Training: 100%|██████████| 95/95 [00:39<00:00,  2.38it/s]\n",
      "Validating: 100%|██████████| 24/24 [00:03<00:00,  6.31it/s]\n"
     ]
    },
    {
     "name": "stdout",
     "output_type": "stream",
     "text": [
      "Train Loss: 0.3365 | Val Loss: 0.3475 | Val Acc: 0.9656 | Macro F1: 0.9570\n",
      "\n",
      "🚀 Epoch 9/25\n"
     ]
    },
    {
     "name": "stderr",
     "output_type": "stream",
     "text": [
      "Training: 100%|██████████| 95/95 [00:39<00:00,  2.40it/s]\n",
      "Validating: 100%|██████████| 24/24 [00:03<00:00,  6.48it/s]\n"
     ]
    },
    {
     "name": "stdout",
     "output_type": "stream",
     "text": [
      "Train Loss: 0.3306 | Val Loss: 0.3572 | Val Acc: 0.9510 | Macro F1: 0.9385\n",
      "\n",
      "🚀 Epoch 10/25\n"
     ]
    },
    {
     "name": "stderr",
     "output_type": "stream",
     "text": [
      "Training: 100%|██████████| 95/95 [00:39<00:00,  2.41it/s]\n",
      "Validating: 100%|██████████| 24/24 [00:03<00:00,  6.40it/s]\n"
     ]
    },
    {
     "name": "stdout",
     "output_type": "stream",
     "text": [
      "Train Loss: 0.3168 | Val Loss: 0.3491 | Val Acc: 0.9642 | Macro F1: 0.9609\n",
      "\n",
      "🚀 Epoch 11/25\n"
     ]
    },
    {
     "name": "stderr",
     "output_type": "stream",
     "text": [
      "Training: 100%|██████████| 95/95 [00:39<00:00,  2.41it/s]\n",
      "Validating: 100%|██████████| 24/24 [00:03<00:00,  6.60it/s]\n"
     ]
    },
    {
     "name": "stdout",
     "output_type": "stream",
     "text": [
      "Train Loss: 0.3108 | Val Loss: 0.3824 | Val Acc: 0.9430 | Macro F1: 0.9268\n",
      "\n",
      "🚀 Epoch 12/25\n"
     ]
    },
    {
     "name": "stderr",
     "output_type": "stream",
     "text": [
      "Training: 100%|██████████| 95/95 [00:39<00:00,  2.41it/s]\n",
      "Validating: 100%|██████████| 24/24 [00:03<00:00,  6.44it/s]\n"
     ]
    },
    {
     "name": "stdout",
     "output_type": "stream",
     "text": [
      "Train Loss: 0.3019 | Val Loss: 0.3608 | Val Acc: 0.9536 | Macro F1: 0.9446\n",
      "\n",
      "🚀 Epoch 13/25\n"
     ]
    },
    {
     "name": "stderr",
     "output_type": "stream",
     "text": [
      "Training: 100%|██████████| 95/95 [00:39<00:00,  2.40it/s]\n",
      "Validating: 100%|██████████| 24/24 [00:03<00:00,  6.27it/s]\n"
     ]
    },
    {
     "name": "stdout",
     "output_type": "stream",
     "text": [
      "Train Loss: 0.3074 | Val Loss: 0.3467 | Val Acc: 0.9536 | Macro F1: 0.9454\n",
      "\n",
      "🚀 Epoch 14/25\n"
     ]
    },
    {
     "name": "stderr",
     "output_type": "stream",
     "text": [
      "Training: 100%|██████████| 95/95 [00:39<00:00,  2.40it/s]\n",
      "Validating: 100%|██████████| 24/24 [00:03<00:00,  6.15it/s]\n"
     ]
    },
    {
     "name": "stdout",
     "output_type": "stream",
     "text": [
      "Train Loss: 0.2986 | Val Loss: 0.3631 | Val Acc: 0.9550 | Macro F1: 0.9467\n",
      "\n",
      "🚀 Epoch 15/25\n"
     ]
    },
    {
     "name": "stderr",
     "output_type": "stream",
     "text": [
      "Training: 100%|██████████| 95/95 [00:39<00:00,  2.41it/s]\n",
      "Validating: 100%|██████████| 24/24 [00:03<00:00,  6.32it/s]\n"
     ]
    },
    {
     "name": "stdout",
     "output_type": "stream",
     "text": [
      "Train Loss: 0.2902 | Val Loss: 0.3410 | Val Acc: 0.9576 | Macro F1: 0.9504\n",
      "\n",
      "🚀 Epoch 16/25\n"
     ]
    },
    {
     "name": "stderr",
     "output_type": "stream",
     "text": [
      "Training: 100%|██████████| 95/95 [00:39<00:00,  2.42it/s]\n",
      "Validating: 100%|██████████| 24/24 [00:03<00:00,  6.47it/s]\n"
     ]
    },
    {
     "name": "stdout",
     "output_type": "stream",
     "text": [
      "Train Loss: 0.2992 | Val Loss: 0.3516 | Val Acc: 0.9523 | Macro F1: 0.9441\n",
      "\n",
      "🚀 Epoch 17/25\n"
     ]
    },
    {
     "name": "stderr",
     "output_type": "stream",
     "text": [
      "Training: 100%|██████████| 95/95 [00:44<00:00,  2.13it/s]\n",
      "Validating: 100%|██████████| 24/24 [00:04<00:00,  5.60it/s]\n"
     ]
    },
    {
     "name": "stdout",
     "output_type": "stream",
     "text": [
      "Train Loss: 0.2788 | Val Loss: 0.3404 | Val Acc: 0.9576 | Macro F1: 0.9478\n",
      "\n",
      "🚀 Epoch 18/25\n"
     ]
    },
    {
     "name": "stderr",
     "output_type": "stream",
     "text": [
      "Training: 100%|██████████| 95/95 [01:05<00:00,  1.45it/s]\n",
      "Validating: 100%|██████████| 24/24 [00:07<00:00,  3.22it/s]\n"
     ]
    },
    {
     "name": "stdout",
     "output_type": "stream",
     "text": [
      "Train Loss: 0.2849 | Val Loss: 0.3435 | Val Acc: 0.9550 | Macro F1: 0.9442\n",
      "\n",
      "🚀 Epoch 19/25\n"
     ]
    },
    {
     "name": "stderr",
     "output_type": "stream",
     "text": [
      "Training: 100%|██████████| 95/95 [00:55<00:00,  1.71it/s]\n",
      "Validating: 100%|██████████| 24/24 [00:04<00:00,  5.63it/s]\n"
     ]
    },
    {
     "name": "stdout",
     "output_type": "stream",
     "text": [
      "Train Loss: 0.2806 | Val Loss: 0.3390 | Val Acc: 0.9616 | Macro F1: 0.9540\n",
      "\n",
      "🚀 Epoch 20/25\n"
     ]
    },
    {
     "name": "stderr",
     "output_type": "stream",
     "text": [
      "Training: 100%|██████████| 95/95 [00:41<00:00,  2.27it/s]\n",
      "Validating: 100%|██████████| 24/24 [00:03<00:00,  6.22it/s]\n"
     ]
    },
    {
     "name": "stdout",
     "output_type": "stream",
     "text": [
      "Train Loss: 0.2732 | Val Loss: 0.3404 | Val Acc: 0.9576 | Macro F1: 0.9496\n",
      "\n",
      "🚀 Epoch 21/25\n"
     ]
    },
    {
     "name": "stderr",
     "output_type": "stream",
     "text": [
      "Training: 100%|██████████| 95/95 [00:41<00:00,  2.30it/s]\n",
      "Validating: 100%|██████████| 24/24 [00:03<00:00,  6.16it/s]\n"
     ]
    },
    {
     "name": "stdout",
     "output_type": "stream",
     "text": [
      "Train Loss: 0.2708 | Val Loss: 0.3343 | Val Acc: 0.9629 | Macro F1: 0.9562\n",
      "\n",
      "🚀 Epoch 22/25\n"
     ]
    },
    {
     "name": "stderr",
     "output_type": "stream",
     "text": [
      "Training: 100%|██████████| 95/95 [00:40<00:00,  2.33it/s]\n",
      "Validating: 100%|██████████| 24/24 [00:03<00:00,  6.06it/s]\n"
     ]
    },
    {
     "name": "stdout",
     "output_type": "stream",
     "text": [
      "Train Loss: 0.2722 | Val Loss: 0.3345 | Val Acc: 0.9616 | Macro F1: 0.9543\n",
      "\n",
      "🚀 Epoch 23/25\n"
     ]
    },
    {
     "name": "stderr",
     "output_type": "stream",
     "text": [
      "Training: 100%|██████████| 95/95 [00:41<00:00,  2.28it/s]\n",
      "Validating: 100%|██████████| 24/24 [00:03<00:00,  6.17it/s]\n"
     ]
    },
    {
     "name": "stdout",
     "output_type": "stream",
     "text": [
      "Train Loss: 0.2697 | Val Loss: 0.3395 | Val Acc: 0.9589 | Macro F1: 0.9523\n",
      "\n",
      "🚀 Epoch 24/25\n"
     ]
    },
    {
     "name": "stderr",
     "output_type": "stream",
     "text": [
      "Training: 100%|██████████| 95/95 [00:43<00:00,  2.20it/s]\n",
      "Validating: 100%|██████████| 24/24 [00:03<00:00,  6.47it/s]\n"
     ]
    },
    {
     "name": "stdout",
     "output_type": "stream",
     "text": [
      "Train Loss: 0.2692 | Val Loss: 0.3361 | Val Acc: 0.9616 | Macro F1: 0.9543\n",
      "\n",
      "🚀 Epoch 25/25\n"
     ]
    },
    {
     "name": "stderr",
     "output_type": "stream",
     "text": [
      "Training: 100%|██████████| 95/95 [00:46<00:00,  2.06it/s]\n",
      "Validating: 100%|██████████| 24/24 [00:04<00:00,  5.95it/s]\n"
     ]
    },
    {
     "name": "stdout",
     "output_type": "stream",
     "text": [
      "Train Loss: 0.2691 | Val Loss: 0.3368 | Val Acc: 0.9603 | Macro F1: 0.9533\n"
     ]
    }
   ],
   "source": [
    "# --- 2. Define training setup ---\n",
    "num_epochs = 25\n",
    "criterion = nn.CrossEntropyLoss(label_smoothing=0.05)\n",
    "optimizer = torch.optim.AdamW(model.parameters(), lr=3e-5, weight_decay=1e-4)\n",
    "scheduler = torch.optim.lr_scheduler.CosineAnnealingLR(optimizer, T_max=num_epochs)\n",
    "\n",
    "print(\"Using device:\", device)\n",
    "mlflow.set_experiment(\"Pressure_Posture_Detection\")\n",
    "\n",
    "# --- 3. Train + Log ---\n",
    "with mlflow.start_run(run_name=\"TinyViT_Scheduler\"):\n",
    "    mlflow.log_params(\n",
    "        {\n",
    "            \"model\": \"TinyViT\",\n",
    "            \"epochs\": num_epochs,\n",
    "            \"lr\": 3e-5,\n",
    "            \"weight_decay\": 1e-4,\n",
    "            \"scheduler\": \"CosineAnnealingLR\",\n",
    "        }\n",
    "    )\n",
    "\n",
    "    for epoch in range(num_epochs):\n",
    "        print(f\"\\n🚀 Epoch {epoch+1}/{num_epochs}\")\n",
    "        model.train()\n",
    "        running_loss = 0.0\n",
    "\n",
    "        # --- Training phase ---\n",
    "        for imgs, labels in tqdm(train_loader_rgb, desc=\"Training\"):\n",
    "            imgs, labels = imgs.to(device), labels.to(device)\n",
    "            optimizer.zero_grad()\n",
    "            outputs = model(imgs)\n",
    "            loss = criterion(outputs, labels)\n",
    "            loss.backward()\n",
    "            optimizer.step()\n",
    "            running_loss += loss.item()\n",
    "\n",
    "        avg_train_loss = running_loss / len(train_loader_rgb)\n",
    "\n",
    "        # --- Validation phase ---\n",
    "        model.eval()\n",
    "        val_preds, val_true = [], []\n",
    "        val_loss = 0.0\n",
    "        with torch.no_grad():\n",
    "            for imgs, labels in tqdm(val_loader_rgb, desc=\"Validating\"):\n",
    "                imgs, labels = imgs.to(device), labels.to(device)\n",
    "                outputs = model(imgs)\n",
    "                loss = criterion(outputs, labels)\n",
    "                val_loss += loss.item()\n",
    "                preds = outputs.argmax(dim=1)\n",
    "                val_preds.extend(preds.cpu().numpy())\n",
    "                val_true.extend(labels.cpu().numpy())\n",
    "\n",
    "        scheduler.step()\n",
    "\n",
    "        avg_val_loss = val_loss / len(val_loader_rgb)\n",
    "        val_acc = accuracy_score(val_true, val_preds)\n",
    "        macro_f1 = classification_report(\n",
    "            val_true, val_preds, target_names=CLASSES, output_dict=True\n",
    "        )[\"macro avg\"][\"f1-score\"]\n",
    "        print(\n",
    "            f\"Train Loss: {avg_train_loss:.4f} | Val Loss: {avg_val_loss:.4f} | Val Acc: {val_acc:.4f} | Macro F1: {macro_f1:.4f}\"\n",
    "        )\n",
    "\n",
    "    # --- Compute metrics once ---\n",
    "    report = classification_report(\n",
    "        y_true=val_true, y_pred=val_preds, target_names=CLASSES, output_dict=True\n",
    "    )\n",
    "    val_acc = accuracy_score(val_true, val_preds)\n",
    "    macro_f1 = report[\"macro avg\"][\"f1-score\"]\n",
    "\n",
    "    mlflow.log_metrics(\n",
    "        {\"val_accuracy\": round(val_acc, 3), \"val_macro_f1\": round(macro_f1, 3)}\n",
    "    )\n",
    "    log_classification_report_html(report, model_name=\"TinyViT_Scheduler\")\n",
    "    # --- Save model ---\n",
    "    torch.save(model.state_dict(), \"models/tinyvit_scheduler.pth\")"
   ]
  },
  {
   "cell_type": "code",
   "execution_count": 81,
   "id": "6590ff10",
   "metadata": {},
   "outputs": [
    {
     "name": "stdout",
     "output_type": "stream",
     "text": [
      "              precision    recall  f1-score   support\n",
      "\n",
      "        left       0.91      0.90      0.90        88\n",
      "       right       0.97      0.96      0.97       671\n",
      "      supine       0.88      0.90      0.89       242\n",
      "    outofbed       1.00      1.00      1.00       472\n",
      "       prone       0.94      0.94      0.94        81\n",
      "\n",
      "    accuracy                           0.96      1554\n",
      "   macro avg       0.94      0.94      0.94      1554\n",
      "weighted avg       0.96      0.96      0.96      1554\n",
      "\n"
     ]
    }
   ],
   "source": [
    "from sklearn.metrics import classification_report\n",
    "\n",
    "model.eval()\n",
    "all_preds, all_labels = [], []\n",
    "with torch.no_grad():\n",
    "    for imgs, labels in test_loader_rgb:\n",
    "        imgs, labels = imgs.to(device), labels.to(device)\n",
    "        outputs = model(imgs)\n",
    "        preds = outputs.argmax(dim=1)\n",
    "        all_preds.extend(preds.cpu().numpy())\n",
    "\n",
    "        all_labels.extend(labels.cpu().numpy())\n",
    "\n",
    "print(classification_report(all_labels, all_preds, target_names=CLASSES))"
   ]
  },
  {
   "cell_type": "markdown",
   "id": "ddaa23a3",
   "metadata": {},
   "source": [
    "## ConvNeXt-Tiny"
   ]
  },
  {
   "cell_type": "code",
   "execution_count": null,
   "id": "5833fd49",
   "metadata": {},
   "outputs": [
    {
     "name": "stdout",
     "output_type": "stream",
     "text": [
      "✅ Using device: mps\n",
      "✅ Loaded ConvNeXt-Nano backbone\n"
     ]
    }
   ],
   "source": [
    "import torch\n",
    "import torch.nn as nn\n",
    "from torchvision import models\n",
    "from tqdm import tqdm\n",
    "\n",
    "# --- 1. Load ConvNeXt-Tiny pretrained on ImageNet-1k ---\n",
    "model = models.convnext_tiny(weights=models.ConvNeXt_Tiny_Weights.IMAGENET1K_V1)\n",
    "\n",
    "# Replace classifier head to match your number of classes\n",
    "model.classifier[2] = nn.Linear(model.classifier[2].in_features, len(CLASSES))\n",
    "\n",
    "device = torch.device(\"cuda\" if torch.cuda.is_available() else \"cpu\")\n",
    "model = model.to(device)\n",
    "print(\"✅ Using device:\", device)"
   ]
  },
  {
   "cell_type": "code",
   "execution_count": null,
   "id": "d65273e2",
   "metadata": {},
   "outputs": [
    {
     "name": "stdout",
     "output_type": "stream",
     "text": [
      "\n",
      "🚀 Epoch 1/25\n"
     ]
    },
    {
     "name": "stderr",
     "output_type": "stream",
     "text": [
      "Training:   4%|▍         | 2/48 [01:01<25:34, 33.37s/it]"
     ]
    }
   ],
   "source": [
    "import mlflow\n",
    "import torch\n",
    "import torch.nn as nn\n",
    "from sklearn.metrics import classification_report, accuracy_score\n",
    "from tqdm import tqdm\n",
    "\n",
    "# --- 2. Training config ---\n",
    "num_epochs = 20\n",
    "criterion = nn.CrossEntropyLoss(label_smoothing=0.05)\n",
    "optimizer = torch.optim.AdamW(model.parameters(), lr=1e-5, weight_decay=1e-4)\n",
    "scheduler = torch.optim.lr_scheduler.CosineAnnealingWarmRestarts(\n",
    "    optimizer, T_0=5, T_mult=1, eta_min=1e-6\n",
    ")\n",
    "\n",
    "print(\"Using device:\", device)\n",
    "mlflow.set_experiment(\"Pressure_Posture_Detection\")\n",
    "\n",
    "# --- 3. Training loop with MLflow logging ---\n",
    "with mlflow.start_run(run_name=\"TinyViT_Scheduler\"):\n",
    "    mlflow.log_params(\n",
    "        {\n",
    "            \"model\": \"TinyViT\",\n",
    "            \"epochs\": num_epochs,\n",
    "            \"lr\": 1e-5,\n",
    "            \"weight_decay\": 1e-4,\n",
    "            \"scheduler\": \"CosineAnnealingWarmRestarts\",\n",
    "        }\n",
    "    )\n",
    "\n",
    "    for epoch in range(num_epochs):\n",
    "        print(f\"\\n🚀 Epoch {epoch+1}/{num_epochs}\")\n",
    "        model.train()\n",
    "        running_loss = 0.0\n",
    "\n",
    "        # --- Training ---\n",
    "        for imgs, labels in tqdm(train_loader_rgb, desc=\"Training\"):\n",
    "            imgs, labels = imgs.to(device), labels.to(device)\n",
    "\n",
    "            optimizer.zero_grad()\n",
    "            outputs = model(imgs)\n",
    "            loss = criterion(outputs, labels)\n",
    "            loss.backward()\n",
    "            optimizer.step()\n",
    "            running_loss += loss.item()\n",
    "\n",
    "        avg_train_loss = running_loss / len(train_loader_rgb)\n",
    "        print(f\"Train Loss: {avg_train_loss:.4f}\")\n",
    "\n",
    "        # --- Validation ---\n",
    "        model.eval()\n",
    "        val_preds, val_true = [], []\n",
    "        val_loss = 0.0\n",
    "\n",
    "        with torch.no_grad():\n",
    "            for imgs, labels in tqdm(val_loader_rgb, desc=\"Validating\"):\n",
    "                imgs, labels = imgs.to(device), labels.to(device)\n",
    "                outputs = model(imgs)\n",
    "                loss = criterion(outputs, labels)\n",
    "                val_loss += loss.item()\n",
    "                preds = outputs.argmax(dim=1)\n",
    "                val_preds.extend(preds.cpu().numpy())\n",
    "                val_true.extend(labels.cpu().numpy())\n",
    "\n",
    "        avg_val_loss = val_loss / len(val_loader_rgb)\n",
    "        val_acc = accuracy_score(val_true, val_preds)\n",
    "        macro_f1 = classification_report(\n",
    "            val_true, val_preds, target_names=CLASSES, output_dict=True\n",
    "        )[\"macro avg\"][\"f1-score\"]\n",
    "\n",
    "        scheduler.step()\n",
    "        print(\n",
    "            f\"Val Loss: {avg_val_loss:.4f} | Val Acc: {val_acc:.4f} | Macro F1: {macro_f1:.4f}\"\n",
    "        )\n",
    "\n",
    "    # --- Compute final metrics ---\n",
    "    report = classification_report(\n",
    "        y_true=val_true, y_pred=val_preds, target_names=CLASSES, output_dict=True\n",
    "    )\n",
    "    val_acc = accuracy_score(val_true, val_preds)\n",
    "    macro_f1 = report[\"macro avg\"][\"f1-score\"]\n",
    "\n",
    "    # --- Log metrics to MLflow ---\n",
    "    mlflow.log_metrics(\n",
    "        {\"val_accuracy\": round(val_acc, 3), \"val_macro_f1\": round(macro_f1, 3)}\n",
    "    )\n",
    "\n",
    "    log_classification_report_html(report, model_name=\"TinyViT_Scheduler\")\n",
    "\n",
    "    # --- Save model ---\n",
    "    torch.save(model.state_dict(), \"models/tinyvit_scheduler.pth\")"
   ]
  },
  {
   "cell_type": "markdown",
   "id": "33be339b",
   "metadata": {},
   "source": [
    "## ConvNeXt-Tiny with resizing"
   ]
  },
  {
   "cell_type": "code",
   "execution_count": null,
   "id": "16efea4c",
   "metadata": {},
   "outputs": [],
   "source": [
    "import torch\n",
    "import torch.nn as nn\n",
    "from torchvision import models\n",
    "from tqdm import tqdm\n",
    "\n",
    "# --- 1. Load ConvNeXt-Tiny pretrained on ImageNet-1k ---\n",
    "model = models.convnext_tiny(weights=models.ConvNeXt_Tiny_Weights.IMAGENET1K_V1)\n",
    "\n",
    "# Replace classifier head to match your number of classes\n",
    "model.classifier[2] = nn.Linear(model.classifier[2].in_features, len(CLASSES))\n",
    "\n",
    "device = torch.device(\"cuda\" if torch.cuda.is_available() else \"cpu\")\n",
    "model = model.to(device)\n",
    "print(\"✅ Using device:\", device)"
   ]
  },
  {
   "cell_type": "code",
   "execution_count": null,
   "id": "d75c4b49",
   "metadata": {},
   "outputs": [],
   "source": [
    "# --- 2. Training config ---\n",
    "num_epochs = 20\n",
    "criterion = nn.CrossEntropyLoss(label_smoothing=0.05)\n",
    "optimizer = torch.optim.AdamW(model.parameters(), lr=1e-5, weight_decay=1e-4)\n",
    "scheduler = torch.optim.lr_scheduler.CosineAnnealingWarmRestarts(\n",
    "    optimizer, T_0=5, T_mult=1, eta_min=1e-6\n",
    ")\n",
    "\n",
    "# ✅ Define progressive sizes\n",
    "size_schedule = {0: 224, 10: 256, 15: 288}  # change at epoch 10 and 15\n",
    "\n",
    "\n",
    "with mlflow.start_run(run_name=\"ConvNextTiny-Resize\"):\n",
    "    mlflow.log_params(\n",
    "        {\n",
    "            \"model\": \"ConvNextTiny\",\n",
    "            \"epochs\": num_epochs,\n",
    "            \"lr\": 1e-5,\n",
    "            \"weight_decay\": 1e-4,\n",
    "            \"scheduler\": \"CosineAnnealingWarmRestarts\",\n",
    "            \"size_schedule\": \"0: 224, 10: 256, 15: 288\",\n",
    "        }\n",
    "    )\n",
    "\n",
    "    # --- 3. Training loop ---\n",
    "    for epoch in range(num_epochs):\n",
    "        # --- resize dynamically ---\n",
    "        if epoch in size_schedule:\n",
    "            new_size = size_schedule[epoch]\n",
    "            print(f\"\\n🔁 Changing input size to {new_size}x{new_size}\")\n",
    "            train_loader_rgb.dataset.transform = transforms.Compose(\n",
    "                [\n",
    "                    transforms.Resize((new_size, new_size)),\n",
    "                    transforms.RandomRotation(degrees=10),\n",
    "                    transforms.ColorJitter(brightness=0.15, contrast=0.15),\n",
    "                    transforms.RandomApply([transforms.GaussianBlur(3)], p=0.3),\n",
    "                    transforms.RandomApply(\n",
    "                        [transforms.RandomAdjustSharpness(2)], p=0.3\n",
    "                    ),\n",
    "                    transforms.ToTensor(),\n",
    "                    transforms.Normalize(\n",
    "                        mean=[0.485, 0.456, 0.406], std=[0.229, 0.224, 0.225]\n",
    "                    ),\n",
    "                    transforms.RandomErasing(p=0.15),\n",
    "                ]\n",
    "            )\n",
    "            val_loader_rgb.dataset.transform = transforms.Compose(\n",
    "                [\n",
    "                    transforms.Resize((new_size, new_size)),\n",
    "                    transforms.ToTensor(),\n",
    "                    transforms.Normalize(\n",
    "                        mean=[0.485, 0.456, 0.406], std=[0.229, 0.224, 0.225]\n",
    "                    ),\n",
    "                ]\n",
    "            )\n",
    "\n",
    "        print(f\"\\n🚀 Epoch {epoch+1}/{num_epochs}\")\n",
    "        model.train()\n",
    "        running_loss = 0.0\n",
    "\n",
    "        # --- Training ---\n",
    "        for imgs, labels in tqdm(train_loader_rgb, desc=\"Training\"):\n",
    "            imgs, labels = imgs.to(device), labels.to(device)\n",
    "\n",
    "            optimizer.zero_grad()\n",
    "            outputs = model(imgs)\n",
    "            loss = criterion(outputs, labels)\n",
    "            loss.backward()\n",
    "            optimizer.step()\n",
    "            scheduler.step()\n",
    "\n",
    "            running_loss += loss.item()\n",
    "\n",
    "        avg_train_loss = running_loss / len(train_loader_rgb)\n",
    "\n",
    "        # --- Validation ---\n",
    "        model.eval()\n",
    "        val_loss, correct, total = 0.0, 0, 0\n",
    "        with torch.no_grad():\n",
    "            for imgs, labels in tqdm(val_loader_rgb, desc=\"Validating\"):\n",
    "                imgs, labels = imgs.to(device), labels.to(device)\n",
    "                outputs = model(imgs)\n",
    "                loss = criterion(outputs, labels)\n",
    "                val_loss += loss.item()\n",
    "\n",
    "                preds = outputs.argmax(dim=1)\n",
    "                correct += (preds == labels).sum().item()\n",
    "                total += labels.size(0)\n",
    "\n",
    "        avg_val_loss = val_loss / len(val_loader_rgb)\n",
    "        val_acc = correct / total\n",
    "\n",
    "        print(\n",
    "            f\"Train Loss: {avg_train_loss:.4f} | Val Loss: {avg_val_loss:.4f} | Val Acc: {val_acc:.4f}\"\n",
    "        )\n",
    "\n",
    "# --- Compute final metrics ---\n",
    "report = classification_report(\n",
    "    y_true=val_true, y_pred=val_preds, target_names=CLASSES, output_dict=True\n",
    ")\n",
    "val_acc = accuracy_score(val_true, val_preds)\n",
    "macro_f1 = report[\"macro avg\"][\"f1-score\"]\n",
    "\n",
    "# --- Log metrics to MLflow ---\n",
    "mlflow.log_metrics(\n",
    "    {\"val_accuracy\": round(val_acc, 3), \"val_macro_f1\": round(macro_f1, 3)}\n",
    ")\n",
    "\n",
    "# log_classification_report_html(report, model_name=\"ConvNextTiny\")\n",
    "\n",
    "# --- Save model ---\n",
    "torch.save(model.state_dict(), \"ConvNextTiny-Resize.pth\")"
   ]
  },
  {
   "cell_type": "markdown",
   "id": "9c5b3dbd",
   "metadata": {},
   "source": [
    "## ConvNeXtTiny with SWA"
   ]
  },
  {
   "cell_type": "code",
   "execution_count": null,
   "id": "3f3d380c",
   "metadata": {},
   "outputs": [],
   "source": [
    "import torch\n",
    "import torch.nn as nn\n",
    "from torchvision import models\n",
    "from tqdm import tqdm\n",
    "\n",
    "# --- 1. Load ConvNeXt-Tiny pretrained on ImageNet-1k ---\n",
    "model = models.convnext_tiny(weights=models.ConvNeXt_Tiny_Weights.IMAGENET1K_V1)\n",
    "\n",
    "# Replace classifier head to match your number of classes\n",
    "model.classifier[2] = nn.Linear(model.classifier[2].in_features, len(CLASSES))\n",
    "\n",
    "device = torch.device(\"cuda\" if torch.cuda.is_available() else \"cpu\")\n",
    "model = model.to(device)\n",
    "print(\"✅ Using device:\", device)"
   ]
  },
  {
   "cell_type": "code",
   "execution_count": null,
   "id": "bdf171cc",
   "metadata": {},
   "outputs": [],
   "source": [
    "import mlflow\n",
    "import torch\n",
    "import torch.nn as nn\n",
    "from torch.optim.swa_utils import AveragedModel, SWALR, update_bn\n",
    "from sklearn.metrics import classification_report, accuracy_score\n",
    "from tqdm import tqdm\n",
    "\n",
    "# --- 1. Training setup ---\n",
    "num_epochs = 20\n",
    "criterion = nn.CrossEntropyLoss(label_smoothing=0.05)\n",
    "optimizer = torch.optim.AdamW(model.parameters(), lr=1e-5, weight_decay=1e-4)\n",
    "\n",
    "# Cosine warm restarts scheduler (normal phase)\n",
    "scheduler = torch.optim.lr_scheduler.CosineAnnealingWarmRestarts(\n",
    "    optimizer, T_0=5, T_mult=1, eta_min=1e-6\n",
    ")\n",
    "\n",
    "# --- 2. SWA setup ---\n",
    "swa_model = AveragedModel(model)\n",
    "swa_start = 10\n",
    "swa_scheduler = SWALR(optimizer, swa_lr=5e-6)\n",
    "\n",
    "# --- 3. MLflow setup ---\n",
    "mlflow.set_experiment(\"Pressure_Posture_Detection\")\n",
    "\n",
    "with mlflow.start_run(run_name=\"ConvNeXtTiny_SWA\"):\n",
    "    mlflow.log_params(\n",
    "        {\n",
    "            \"model\": \"ConvNeXtTiny\",\n",
    "            \"epochs\": num_epochs,\n",
    "            \"lr\": 1e-5,\n",
    "            \"weight_decay\": 1e-4,\n",
    "            \"scheduler\": \"CosineAnnealingWarmRestarts + SWALR\",\n",
    "            \"swa_start\": swa_start,\n",
    "        }\n",
    "    )\n",
    "\n",
    "    # --- 4. Training loop ---\n",
    "    for epoch in range(num_epochs):\n",
    "        print(f\"\\n🚀 Epoch {epoch+1}/{num_epochs}\")\n",
    "        model.train()\n",
    "        running_loss = 0.0\n",
    "\n",
    "        # --- Training phase ---\n",
    "        for imgs, labels in tqdm(train_loader_rgb, desc=\"Training\"):\n",
    "            imgs, labels = imgs.to(device), labels.to(device)\n",
    "            optimizer.zero_grad()\n",
    "            outputs = model(imgs)\n",
    "            loss = criterion(outputs, labels)\n",
    "            loss.backward()\n",
    "            optimizer.step()\n",
    "            running_loss += loss.item()\n",
    "\n",
    "        avg_train_loss = running_loss / len(train_loader_rgb)\n",
    "\n",
    "        # --- Validation phase ---\n",
    "        model.eval()\n",
    "        val_preds, val_true = [], []\n",
    "        val_loss = 0.0\n",
    "        with torch.no_grad():\n",
    "            for imgs, labels in tqdm(val_loader_rgb, desc=\"Validating\"):\n",
    "                imgs, labels = imgs.to(device), labels.to(device)\n",
    "                outputs = model(imgs)\n",
    "                loss = criterion(outputs, labels)\n",
    "                val_loss += loss.item()\n",
    "                preds = outputs.argmax(dim=1)\n",
    "                val_preds.extend(preds.cpu().numpy())\n",
    "                val_true.extend(labels.cpu().numpy())\n",
    "\n",
    "        avg_val_loss = val_loss / len(val_loader_rgb)\n",
    "        val_acc = accuracy_score(val_true, val_preds)\n",
    "        macro_f1 = classification_report(\n",
    "            val_true, val_preds, target_names=CLASSES, output_dict=True\n",
    "        )[\"macro avg\"][\"f1-score\"]\n",
    "\n",
    "        # --- Scheduler handling ---\n",
    "        if epoch >= swa_start:\n",
    "            swa_model.update_parameters(model)\n",
    "            swa_scheduler.step()\n",
    "        else:\n",
    "            scheduler.step()\n",
    "\n",
    "        print(\n",
    "            f\"Train Loss: {avg_train_loss:.4f} | Val Loss: {avg_val_loss:.4f} | Val Acc: {val_acc:.4f} | Macro F1: {macro_f1:.4f}\"\n",
    "        )\n",
    "\n",
    "    # --- 5. Final SWA update ---\n",
    "    print(\"\\n🔁 Updating BatchNorm statistics for SWA model...\")\n",
    "    update_bn(train_loader_rgb, swa_model)\n",
    "\n",
    "    # --- 6. Evaluate SWA model ---\n",
    "    swa_model.eval()\n",
    "    val_preds, val_true = [], []\n",
    "    with torch.no_grad():\n",
    "        for imgs, labels in tqdm(val_loader_rgb, desc=\"Evaluating SWA Model\"):\n",
    "            imgs, labels = imgs.to(device), labels.to(device)\n",
    "            outputs = swa_model(imgs)\n",
    "            preds = outputs.argmax(dim=1)\n",
    "            val_preds.extend(preds.cpu().numpy())\n",
    "            val_true.extend(labels.cpu().numpy())\n",
    "\n",
    "    report = classification_report(\n",
    "        val_true, val_preds, target_names=CLASSES, output_dict=True\n",
    "    )\n",
    "    swa_acc = accuracy_score(val_true, val_preds)\n",
    "    macro_f1 = report[\"macro avg\"][\"f1-score\"]\n",
    "\n",
    "    # --- Final MLflow logging ---\n",
    "    mlflow.log_metrics(\n",
    "        {\n",
    "            \"final_swa_accuracy\": round(swa_acc, 3),\n",
    "            \"final_swa_macro_f1\": round(macro_f1, 3),\n",
    "        }\n",
    "    )\n",
    "    log_classification_report_html(report, model_name=\"ConvNeXtTiny_SWA\")\n",
    "\n",
    "    # --- Save SWA model ---\n",
    "    torch.save(swa_model.state_dict(), \"ConvNeXtTiny_SWA.pth\")\n",
    "    mlflow.log_artifact(\"ConvNeXtTiny_SWA.pth\")\n",
    "\n",
    "print(f\"\\n🏁 Final SWA Validation Accuracy: {swa_acc:.4f}\")"
   ]
  },
  {
   "cell_type": "markdown",
   "id": "7de59a14",
   "metadata": {},
   "source": [
    "## EfficientNet_B0"
   ]
  },
  {
   "cell_type": "code",
   "execution_count": null,
   "id": "80f4d4b6",
   "metadata": {},
   "outputs": [],
   "source": [
    "import torch\n",
    "import torch.nn as nn\n",
    "from torchvision import models\n",
    "from tqdm import tqdm\n",
    "\n",
    "\n",
    "model = models.efficientnet_b0(weights=models.EfficientNet_B0_Weights.IMAGENET1K_V1)\n",
    "model.classifier[1] = nn.Linear(model.classifier[1].in_features, len(CLASSES))\n",
    "\n",
    "\n",
    "device = torch.device(\"cuda\" if torch.cuda.is_available() else \"cpu\")\n",
    "model = model.to(device)\n",
    "print(\"✅ Using device:\", device)"
   ]
  },
  {
   "cell_type": "code",
   "execution_count": null,
   "id": "d63dd5f2",
   "metadata": {},
   "outputs": [],
   "source": [
    "# --- 2. Training config ---\n",
    "num_epochs = 30\n",
    "criterion = nn.CrossEntropyLoss(label_smoothing=0.05)\n",
    "optimizer = torch.optim.AdamW(model.parameters(), lr=3e-5, weight_decay=1e-4)\n",
    "scheduler = torch.optim.lr_scheduler.CosineAnnealingWarmRestarts(optimizer, T_0=10)\n",
    "\n",
    "# --- 3. MLflow setup ---\n",
    "mlflow.set_experiment(\"Pressure_Posture_Detection\")\n",
    "\n",
    "with mlflow.start_run(run_name=\"EfficientNet_B0_CosineRestart\"):\n",
    "    mlflow.log_params(\n",
    "        {\n",
    "            \"model\": \"EfficientNet_B0\",\n",
    "            \"epochs\": num_epochs,\n",
    "            \"lr\": 3e-5,\n",
    "            \"weight_decay\": 1e-4,\n",
    "            \"scheduler\": \"CosineAnnealingWarmRestarts\",\n",
    "            \"T_0\": 10,\n",
    "        }\n",
    "    )\n",
    "\n",
    "    # --- 4. Training loop ---\n",
    "    for epoch in range(num_epochs):\n",
    "        print(f\"\\n🚀 Epoch {epoch+1}/{num_epochs}\")\n",
    "        model.train()\n",
    "        running_loss = 0.0\n",
    "\n",
    "        # Training phase\n",
    "        for imgs, labels in tqdm(train_loader_rgb, desc=\"Training\"):\n",
    "            imgs, labels = imgs.to(device), labels.to(device)\n",
    "            optimizer.zero_grad()\n",
    "            outputs = model(imgs)\n",
    "            loss = criterion(outputs, labels)\n",
    "            loss.backward()\n",
    "            optimizer.step()\n",
    "            running_loss += loss.item()\n",
    "\n",
    "        avg_train_loss = running_loss / len(train_loader_rgb)\n",
    "\n",
    "        # Validation phase\n",
    "        model.eval()\n",
    "        val_preds, val_true = [], []\n",
    "        val_loss = 0.0\n",
    "        with torch.no_grad():\n",
    "            for imgs, labels in tqdm(val_loader_rgb, desc=\"Validating\"):\n",
    "                imgs, labels = imgs.to(device), labels.to(device)\n",
    "                outputs = model(imgs)\n",
    "                loss = criterion(outputs, labels)\n",
    "                val_loss += loss.item()\n",
    "                preds = outputs.argmax(dim=1)\n",
    "                val_preds.extend(preds.cpu().numpy())\n",
    "                val_true.extend(labels.cpu().numpy())\n",
    "\n",
    "        avg_val_loss = val_loss / len(val_loader_rgb)\n",
    "        val_acc = accuracy_score(val_true, val_preds)\n",
    "        macro_f1 = classification_report(\n",
    "            val_true, val_preds, target_names=CLASSES, output_dict=True\n",
    "        )[\"macro avg\"][\"f1-score\"]\n",
    "\n",
    "        scheduler.step()\n",
    "\n",
    "        # MLflow logging\n",
    "        mlflow.log_metrics(\n",
    "            {\n",
    "                \"train_loss\": round(avg_train_loss, 4),\n",
    "                \"val_loss\": round(avg_val_loss, 4),\n",
    "                \"val_accuracy\": round(val_acc, 4),\n",
    "                \"val_macro_f1\": round(macro_f1, 4),\n",
    "            },\n",
    "            step=epoch,\n",
    "        )\n",
    "\n",
    "        print(\n",
    "            f\"Train Loss: {avg_train_loss:.4f} | Val Loss: {avg_val_loss:.4f} | Val Acc: {val_acc:.4f} | Macro F1: {macro_f1:.4f}\"\n",
    "        )\n",
    "\n",
    "    # --- 5. Final evaluation ---\n",
    "    report = classification_report(\n",
    "        val_true, val_preds, target_names=CLASSES, output_dict=True\n",
    "    )\n",
    "    log_classification_report_html(report, model_name=\"EfficientNet_B0_CosineRestart\")\n",
    "\n",
    "    # --- 6. Save model ---\n",
    "    torch.save(model.state_dict(), \"EfficientNet_B0_CosineRestart.pth\")\n",
    "    mlflow.log_artifact(\"EfficientNet_B0_CosineRestart.pth\")\n",
    "\n",
    "print(\"\\n✅ Training complete for EfficientNet-B0.\")"
   ]
  },
  {
   "cell_type": "markdown",
   "id": "13f14b7e",
   "metadata": {},
   "source": [
    "## Swin_Tiny"
   ]
  },
  {
   "cell_type": "code",
   "execution_count": null,
   "id": "69a24ecf",
   "metadata": {},
   "outputs": [],
   "source": [
    "import torch\n",
    "import torch.nn as nn\n",
    "from torchvision import models\n",
    "from tqdm import tqdm\n",
    "\n",
    "# --- 1. Load pretrained Swin-Tiny ---\n",
    "model = models.swin_t(weights=models.Swin_T_Weights.IMAGENET1K_V1)\n",
    "\n",
    "# Replace classifier head to match your posture classes\n",
    "model.head = nn.Linear(model.head.in_features, len(CLASSES))\n",
    "\n",
    "device = torch.device(\"cuda\" if torch.cuda.is_available() else \"cpu\")\n",
    "model = model.to(device)\n",
    "print(\"✅ Using device:\", device)"
   ]
  },
  {
   "cell_type": "code",
   "execution_count": null,
   "id": "167840e6",
   "metadata": {},
   "outputs": [],
   "source": [
    "# --- 2. Training config ---\n",
    "num_epochs = 30\n",
    "criterion = nn.CrossEntropyLoss(label_smoothing=0.05)\n",
    "optimizer = torch.optim.AdamW(model.parameters(), lr=3e-5, weight_decay=1e-4)\n",
    "scheduler = torch.optim.lr_scheduler.CosineAnnealingWarmRestarts(optimizer, T_0=10)\n",
    "\n",
    "# --- 3. MLflow setup ---\n",
    "mlflow.set_experiment(\"Pressure_Posture_Detection\")\n",
    "\n",
    "with mlflow.start_run(run_name=\"SwinTiny_CosineRestart\"):\n",
    "    mlflow.log_params(\n",
    "        {\n",
    "            \"model\": \"Swin_Tiny\",\n",
    "            \"epochs\": num_epochs,\n",
    "            \"lr\": 3e-5,\n",
    "            \"weight_decay\": 1e-4,\n",
    "            \"scheduler\": \"CosineAnnealingWarmRestarts\",\n",
    "            \"T_0\": 10,\n",
    "        }\n",
    "    )\n",
    "\n",
    "    # --- 4. Training loop ---\n",
    "    for epoch in range(num_epochs):\n",
    "        print(f\"\\n🚀 Epoch {epoch+1}/{num_epochs}\")\n",
    "        model.train()\n",
    "        running_loss = 0.0\n",
    "\n",
    "        # --- Training ---\n",
    "        for imgs, labels in tqdm(train_loader_rgb, desc=\"Training\"):\n",
    "            imgs, labels = imgs.to(device), labels.to(device)\n",
    "            optimizer.zero_grad()\n",
    "            outputs = model(imgs)\n",
    "            loss = criterion(outputs, labels)\n",
    "            loss.backward()\n",
    "            optimizer.step()\n",
    "            running_loss += loss.item()\n",
    "\n",
    "        avg_train_loss = running_loss / len(train_loader_rgb)\n",
    "\n",
    "        # --- Validation ---\n",
    "        model.eval()\n",
    "        val_preds, val_true = [], []\n",
    "        val_loss = 0.0\n",
    "        with torch.no_grad():\n",
    "            for imgs, labels in tqdm(val_loader_rgb, desc=\"Validating\"):\n",
    "                imgs, labels = imgs.to(device), labels.to(device)\n",
    "                outputs = model(imgs)\n",
    "                loss = criterion(outputs, labels)\n",
    "                val_loss += loss.item()\n",
    "                preds = outputs.argmax(dim=1)\n",
    "                val_preds.extend(preds.cpu().numpy())\n",
    "                val_true.extend(labels.cpu().numpy())\n",
    "\n",
    "        avg_val_loss = val_loss / len(val_loader_rgb)\n",
    "        val_acc = accuracy_score(val_true, val_preds)\n",
    "        macro_f1 = classification_report(\n",
    "            val_true, val_preds, target_names=CLASSES, output_dict=True\n",
    "        )[\"macro avg\"][\"f1-score\"]\n",
    "\n",
    "        scheduler.step()\n",
    "\n",
    "        print(\n",
    "            f\"Train Loss: {avg_train_loss:.4f} | Val Loss: {avg_val_loss:.4f} | Val Acc: {val_acc:.4f} | Macro F1: {macro_f1:.4f}\"\n",
    "        )\n",
    "\n",
    "    # --- 5. Final evaluation ---\n",
    "    report = classification_report(\n",
    "        val_true, val_preds, target_names=CLASSES, output_dict=True\n",
    "    )\n",
    "    acc = accuracy_score(val_true, val_preds)\n",
    "    macro_f1 = report[\"macro avg\"][\"f1-score\"]\n",
    "\n",
    "    # --- Final MLflow logging ---\n",
    "    mlflow.log_metrics(\n",
    "        {\"final_accuracy\": round(acc, 3), \"final_macro_f1\": round(macro_f1, 3)}\n",
    "    )\n",
    "    log_classification_report_html(report, model_name=\"ConvNeXtTiny_SWA\")\n",
    "\n",
    "    # --- 6. Save model ---\n",
    "    torch.save(model.state_dict(), \"SwinTiny_CosineRestart.pth\")\n",
    "\n",
    "print(\"\\n✅ Training complete for Swin-Tiny.\")"
   ]
  },
  {
   "cell_type": "markdown",
   "id": "865c6d3f",
   "metadata": {},
   "source": [
    "# Model selection based on MLFlow\n",
    "Among all tested architectures, ConvNeXtTiny-Resize achieved the highest performance with a macro F1 score of 0.95, indicating strong generalization across all posture classes. This makes it the most suitable backbone for downstream deployment.\n",
    "\n",
    "From a design perspective, I have chosen to deploy the model as an AWS Lambda function to optimize both cost and scalability. Since inference callbacks are not expected to occur continuously, a serverless approach ensures that computational resources are only utilized when requests are made, minimizing idle-time expenses. Lambda’s event-driven nature aligns well with my system design, where predictions are triggered by on-demand inputs rather than persistent streaming.\n",
    "\n",
    "To further improve efficiency and modularity, I plan to extract embeddings from the ConvNeXtTiny feature extractor instead of deploying the full model end-to-end. These embeddings will then be passed into a lightweight machine learning model (e.g., SVM, GMM, or KNN) for final classification. This two-stage architecture enables:\n",
    "\n",
    "Reduced inference latency, since the embedded representation can be processed faster than a full CNN forward pass.\n",
    "\n",
    "Simplified Lambda deployment, as smaller ML models can be easily packaged and updated independently.\n",
    "\n",
    "Better maintainability, allowing iterative updates to the classifier without retraining the deep learning backbone.\n",
    "\n",
    "Overall, this pipeline balances accuracy, cost-efficiency, and operational flexibility, adhering to a pragmatic ML engineering approach where the heavy computation (feature extraction) is decoupled from the lightweight inference layer."
   ]
  },
  {
   "cell_type": "markdown",
   "id": "659f7e25",
   "metadata": {},
   "source": [
    "## Over-sample the dataset due to class imbalance"
   ]
  },
  {
   "cell_type": "code",
   "execution_count": null,
   "id": "a405782b",
   "metadata": {},
   "outputs": [],
   "source": [
    "import os\n",
    "import numpy as np\n",
    "import torch\n",
    "import torch.nn as nn\n",
    "from torch.utils.data import Subset, DataLoader, WeightedRandomSampler\n",
    "from torchvision import transforms, models\n",
    "from sklearn.model_selection import train_test_split\n",
    "from tqdm import tqdm\n",
    "\n",
    "# --- Dataset ---\n",
    "dataset_rgb = PressureDistributionDataset(train_path, CLASSES, transform=None)\n",
    "labels = [label for _, label in dataset_rgb]\n",
    "\n",
    "# --- Split indices for train/validation ---\n",
    "train_idx, val_idx = train_test_split(\n",
    "    list(range(len(dataset_rgb))), test_size=0.2, stratify=labels, random_state=42\n",
    ")\n",
    "\n",
    "# --- Transform definitions ---\n",
    "train_transform = transforms.Compose(\n",
    "    [\n",
    "        transforms.Resize((224, 224)),\n",
    "        transforms.RandomRotation(degrees=10),\n",
    "        transforms.ColorJitter(brightness=0.15, contrast=0.15),\n",
    "        transforms.RandomApply([transforms.GaussianBlur(3)], p=0.3),\n",
    "        transforms.RandomApply([transforms.RandomAdjustSharpness(2)], p=0.3),\n",
    "        transforms.ToTensor(),\n",
    "        transforms.Normalize(mean=[0.485, 0.456, 0.406], std=[0.229, 0.224, 0.225]),\n",
    "        transforms.RandomErasing(p=0.15),\n",
    "    ]\n",
    ")\n",
    "\n",
    "eval_transform = transforms.Compose(\n",
    "    [\n",
    "        transforms.Resize((224, 224)),\n",
    "        transforms.ToTensor(),\n",
    "        transforms.Normalize(mean=[0.485, 0.456, 0.406], std=[0.229, 0.224, 0.225]),\n",
    "    ]\n",
    ")\n",
    "\n",
    "# --- Apply transforms ---\n",
    "train_ds_rgb = Subset(\n",
    "    PressureDistributionDataset(train_path, CLASSES, transform=train_transform),\n",
    "    train_idx,\n",
    ")\n",
    "val_ds_rgb = Subset(\n",
    "    PressureDistributionDataset(train_path, CLASSES, transform=eval_transform), val_idx\n",
    ")\n",
    "test_ds_rgb = PressureDistributionDataset(\n",
    "    os.path.join(root_dir, \"VALIDATION\"), CLASSES, transform=eval_transform\n",
    ")\n",
    "\n",
    "# --- Oversampling for class imbalance ---\n",
    "train_labels = [dataset_rgb[i][1] for i in train_idx]\n",
    "class_counts = np.bincount(train_labels)\n",
    "class_weights = 1.0 / class_counts\n",
    "sample_weights = [class_weights[y] for y in train_labels]\n",
    "\n",
    "sampler = WeightedRandomSampler(\n",
    "    sample_weights, num_samples=len(train_labels), replacement=True\n",
    ")\n",
    "\n",
    "# --- DataLoaders ---\n",
    "batch_size = 64\n",
    "train_loader_rgb = DataLoader(\n",
    "    train_ds_rgb, batch_size=batch_size, sampler=sampler, num_workers=4, pin_memory=True\n",
    ")\n",
    "val_loader_rgb = DataLoader(\n",
    "    val_ds_rgb, batch_size=batch_size, shuffle=False, num_workers=4\n",
    ")\n",
    "test_loader_rgb = DataLoader(\n",
    "    test_ds_rgb, batch_size=batch_size, shuffle=False, num_workers=4\n",
    ")"
   ]
  },
  {
   "cell_type": "markdown",
   "id": "9d0bc2a6",
   "metadata": {},
   "source": [
    "## Model setup"
   ]
  },
  {
   "cell_type": "code",
   "execution_count": null,
   "id": "ef11401b",
   "metadata": {},
   "outputs": [],
   "source": [
    "# --- Model setup ---\n",
    "model = models.convnext_tiny(weights=models.ConvNeXt_Tiny_Weights.IMAGENET1K_V1)\n",
    "model.classifier[2] = nn.Linear(model.classifier[2].in_features, len(CLASSES))\n",
    "\n",
    "device = torch.device(\"cuda\" if torch.cuda.is_available() else \"cpu\")\n",
    "model = model.to(device)\n",
    "print(\"✅ Using device:\", device)\n",
    "\n",
    "# --- Training config ---\n",
    "num_epochs = 20\n",
    "criterion = nn.CrossEntropyLoss(label_smoothing=0.05)\n",
    "optimizer = torch.optim.AdamW(model.parameters(), lr=1e-5, weight_decay=1e-4)\n",
    "scheduler = torch.optim.lr_scheduler.CosineAnnealingWarmRestarts(\n",
    "    optimizer, T_0=5, T_mult=1, eta_min=1e-6\n",
    ")\n",
    "\n",
    "# --- Progressive resizing schedule ---\n",
    "size_schedule = {0: 224, 10: 256, 15: 288}\n",
    "\n",
    "# --- Training loop ---\n",
    "for epoch in range(num_epochs):\n",
    "\n",
    "    # --- Dynamically change input size ---\n",
    "    if epoch in size_schedule:\n",
    "        new_size = size_schedule[epoch]\n",
    "        print(f\"\\n🔁 Changing input size to {new_size}x{new_size}\")\n",
    "        train_loader_rgb.dataset.dataset.transform = transforms.Compose(\n",
    "            [\n",
    "                transforms.Resize((new_size, new_size)),\n",
    "                transforms.RandomRotation(degrees=10),\n",
    "                transforms.ColorJitter(brightness=0.15, contrast=0.15),\n",
    "                transforms.RandomApply([transforms.GaussianBlur(3)], p=0.3),\n",
    "                transforms.RandomApply([transforms.RandomAdjustSharpness(2)], p=0.3),\n",
    "                transforms.ToTensor(),\n",
    "                transforms.Normalize(\n",
    "                    mean=[0.485, 0.456, 0.406], std=[0.229, 0.224, 0.225]\n",
    "                ),\n",
    "                transforms.RandomErasing(p=0.15),\n",
    "            ]\n",
    "        )\n",
    "        val_loader_rgb.dataset.dataset.transform = transforms.Compose(\n",
    "            [\n",
    "                transforms.Resize((new_size, new_size)),\n",
    "                transforms.ToTensor(),\n",
    "                transforms.Normalize(\n",
    "                    mean=[0.485, 0.456, 0.406], std=[0.229, 0.224, 0.225]\n",
    "                ),\n",
    "            ]\n",
    "        )\n",
    "\n",
    "    print(f\"\\n🚀 Epoch {epoch+1}/{num_epochs}\")\n",
    "    model.train()\n",
    "    running_loss = 0.0\n",
    "\n",
    "    # --- Training ---\n",
    "    for imgs, labels in tqdm(train_loader_rgb, desc=\"Training\"):\n",
    "        imgs, labels = imgs.to(device), labels.to(device)\n",
    "        optimizer.zero_grad()\n",
    "        outputs = model(imgs)\n",
    "        loss = criterion(outputs, labels)\n",
    "        loss.backward()\n",
    "        optimizer.step()\n",
    "        scheduler.step(epoch + len(train_loader_rgb))\n",
    "        running_loss += loss.item()\n",
    "\n",
    "    avg_train_loss = running_loss / len(train_loader_rgb)\n",
    "\n",
    "    # --- Validation ---\n",
    "    model.eval()\n",
    "    val_loss, correct, total = 0.0, 0, 0\n",
    "    with torch.no_grad():\n",
    "        for imgs, labels in tqdm(val_loader_rgb, desc=\"Validating\"):\n",
    "            imgs, labels = imgs.to(device), labels.to(device)\n",
    "            outputs = model(imgs)\n",
    "            loss = criterion(outputs, labels)\n",
    "            val_loss += loss.item()\n",
    "            preds = outputs.argmax(dim=1)\n",
    "            correct += (preds == labels).sum().item()\n",
    "            total += labels.size(0)\n",
    "\n",
    "    avg_val_loss = val_loss / len(val_loader_rgb)\n",
    "    val_acc = correct / total\n",
    "\n",
    "    print(\n",
    "        f\"Train Loss: {avg_train_loss:.4f} | Val Loss: {avg_val_loss:.4f} | Val Acc: {val_acc:.4f}\"\n",
    "    )"
   ]
  },
  {
   "cell_type": "markdown",
   "id": "ae9b33bc",
   "metadata": {},
   "source": [
    "## Remove classifier head for embeddings"
   ]
  },
  {
   "cell_type": "code",
   "execution_count": null,
   "id": "9f1ad3c7",
   "metadata": {},
   "outputs": [],
   "source": [
    "# Step 1: Remove classifier head\n",
    "feature_extractor = nn.Sequential(*list(model.children())[:-1])\n",
    "feature_extractor.eval().to(device)\n",
    "\n",
    "\n",
    "# Step 2: Extract embeddings\n",
    "def get_embeddings(loader):\n",
    "    features, labels = [], []\n",
    "    with torch.no_grad():\n",
    "        for imgs, lbls in tqdm(loader):\n",
    "            imgs = imgs.to(device)\n",
    "            out = feature_extractor(imgs)\n",
    "            out = torch.flatten(out, 1)\n",
    "            features.append(out.cpu().numpy())\n",
    "            labels.append(lbls.numpy())\n",
    "    return np.vstack(features), np.hstack(labels)\n",
    "\n",
    "\n",
    "X_train, y_train = get_embeddings(train_loader_rgb)\n",
    "X_val, y_val = get_embeddings(val_loader_rgb)\n",
    "X_test, y_test = get_embeddings(test_loader_rgb)"
   ]
  },
  {
   "cell_type": "markdown",
   "id": "56a04a81",
   "metadata": {},
   "source": [
    "## Train Simple ML models on embeddings"
   ]
  },
  {
   "cell_type": "code",
   "execution_count": null,
   "id": "3b2779ad",
   "metadata": {},
   "outputs": [],
   "source": []
  },
  {
   "cell_type": "code",
   "execution_count": 123,
   "id": "4d43c51f",
   "metadata": {},
   "outputs": [
    {
     "name": "stdout",
     "output_type": "stream",
     "text": [
      "✅ Loaded ConvNeXtTiny_Resize_Oversampled and ready for embedding extraction.\n"
     ]
    }
   ],
   "source": [
    "import torch\n",
    "import torch.nn as nn\n",
    "from torchvision import models\n",
    "\n",
    "# Define classes in the same order as during training\n",
    "CLASSES = [\"left\", \"right\", \"supine\", \"outofbed\", \"prone\"]\n",
    "\n",
    "# 1️⃣ Re-initialize architecture\n",
    "model = models.convnext_tiny(weights=None)  # no pretrained weights now\n",
    "model.classifier[2] = nn.Linear(model.classifier[2].in_features, len(CLASSES))\n",
    "\n",
    "# 2️⃣ Load saved weights\n",
    "model.load_state_dict(\n",
    "    torch.load(\"models/ConvNeXtTiny_Resize_Oversampled.pth\", map_location=\"cpu\")\n",
    ")\n",
    "\n",
    "# 3️⃣ Send to device\n",
    "device = torch.device(\"cuda\" if torch.cuda.is_available() else \"cpu\")\n",
    "model = model.to(device)\n",
    "model.eval()\n",
    "print(\"✅ Loaded ConvNeXtTiny_Resize_Oversampled and ready for embedding extraction.\")"
   ]
  },
  {
   "cell_type": "code",
   "execution_count": 102,
   "id": "d14da9d4",
   "metadata": {},
   "outputs": [
    {
     "name": "stdout",
     "output_type": "stream",
     "text": [
      "Skipped 1 non-jpg files.\n",
      "Skipped 1 non-jpg files.\n",
      "Skipped 1 non-jpg files.\n",
      "Skipped 1 non-jpg files.\n"
     ]
    }
   ],
   "source": [
    "from sklearn.model_selection import train_test_split\n",
    "from torch.utils.data import Subset, DataLoader\n",
    "\n",
    "# Load dataset once (no transform yet)\n",
    "dataset_rgb = PressureDistributionDataset(train_path, CLASSES, transform=None)\n",
    "\n",
    "# Extract labels for stratified split\n",
    "labels = [label for _, label in dataset_rgb]\n",
    "\n",
    "# Split indices for train/validation\n",
    "train_idx, val_idx = train_test_split(\n",
    "    list(range(len(dataset_rgb))), test_size=0.2, stratify=labels, random_state=42\n",
    ")\n",
    "\n",
    "# Apply separate transforms to each subset\n",
    "train_ds_rgb = Subset(\n",
    "    PressureDistributionDataset(train_path, CLASSES, transform=train_transform),\n",
    "    train_idx,\n",
    ")\n",
    "val_ds_rgb = Subset(\n",
    "    PressureDistributionDataset(train_path, CLASSES, transform=eval_transform), val_idx\n",
    ")\n",
    "\n",
    "# Test set (from external VALIDATION folder)\n",
    "test_ds_rgb = PressureDistributionDataset(\n",
    "    os.path.join(root_dir, \"VALIDATION\"), CLASSES, transform=eval_transform\n",
    ")"
   ]
  },
  {
   "cell_type": "code",
   "execution_count": 103,
   "id": "6dd454f6",
   "metadata": {},
   "outputs": [],
   "source": [
    "batch_size = 32\n",
    "\n",
    "train_loader_rgb = DataLoader(train_ds_rgb, batch_size=batch_size, shuffle=True)\n",
    "val_loader_rgb = DataLoader(val_ds_rgb, batch_size=batch_size, shuffle=False)\n",
    "test_loader_rgb = DataLoader(test_ds_rgb, batch_size=batch_size, shuffle=False)"
   ]
  },
  {
   "cell_type": "code",
   "execution_count": 104,
   "id": "4b5d0296",
   "metadata": {},
   "outputs": [
    {
     "name": "stderr",
     "output_type": "stream",
     "text": [
      "100%|██████████| 95/95 [02:53<00:00,  1.83s/it]\n",
      "100%|██████████| 24/24 [00:41<00:00,  1.75s/it]\n",
      "100%|██████████| 49/49 [01:26<00:00,  1.78s/it]\n"
     ]
    }
   ],
   "source": [
    "# Step 1: Remove classifier head\n",
    "feature_extractor = nn.Sequential(*list(model.children())[:-1])\n",
    "feature_extractor.eval().to(device)\n",
    "\n",
    "\n",
    "# Step 2: Extract embeddings\n",
    "def get_embeddings(loader):\n",
    "    features, labels = [], []\n",
    "    with torch.no_grad():\n",
    "        for imgs, lbls in tqdm(loader):\n",
    "            imgs = imgs.to(device)\n",
    "            out = feature_extractor(imgs)\n",
    "            out = torch.flatten(out, 1)\n",
    "            features.append(out.cpu().numpy())\n",
    "            labels.append(lbls.numpy())\n",
    "    return np.vstack(features), np.hstack(labels)\n",
    "\n",
    "\n",
    "X_train, y_train = get_embeddings(train_loader_rgb)\n",
    "X_val, y_val = get_embeddings(val_loader_rgb)\n",
    "X_test, y_test = get_embeddings(test_loader_rgb)"
   ]
  },
  {
   "cell_type": "code",
   "execution_count": 105,
   "id": "48ae46f4",
   "metadata": {},
   "outputs": [],
   "source": [
    "from sklearn.pipeline import Pipeline\n",
    "from sklearn.preprocessing import StandardScaler\n",
    "from sklearn.svm import SVC\n",
    "from sklearn.neighbors import KNeighborsClassifier\n",
    "from sklearn.mixture import GaussianMixture\n",
    "from sklearn.metrics import classification_report\n",
    "import numpy as np"
   ]
  },
  {
   "cell_type": "code",
   "execution_count": 106,
   "id": "02a479c9",
   "metadata": {},
   "outputs": [
    {
     "name": "stdout",
     "output_type": "stream",
     "text": [
      "              precision    recall  f1-score   support\n",
      "\n",
      "        left       0.92      0.96      0.94        84\n",
      "       right       0.99      0.98      0.98       263\n",
      "      supine       0.95      0.96      0.95       146\n",
      "    outofbed       1.00      1.00      1.00       194\n",
      "       prone       0.97      0.94      0.96        68\n",
      "\n",
      "    accuracy                           0.97       755\n",
      "   macro avg       0.97      0.97      0.97       755\n",
      "weighted avg       0.98      0.97      0.97       755\n",
      "\n"
     ]
    }
   ],
   "source": [
    "svc = Pipeline(\n",
    "    [\n",
    "        (\"scaler\", StandardScaler()),\n",
    "        (\"svc\", SVC(kernel=\"rbf\", class_weight=\"balanced\", probability=True)),\n",
    "    ]\n",
    ")\n",
    "\n",
    "svc.fit(X_train, y_train)\n",
    "preds = svc.predict(X_val)\n",
    "\n",
    "print(classification_report(y_val, preds, target_names=CLASSES))"
   ]
  },
  {
   "cell_type": "code",
   "execution_count": 115,
   "id": "fc3c1daf",
   "metadata": {},
   "outputs": [
    {
     "name": "stdout",
     "output_type": "stream",
     "text": [
      "\n",
      "📈 SVC Test Results:\n",
      "               precision    recall  f1-score   support\n",
      "\n",
      "        left       0.88      0.93      0.91        88\n",
      "       right       0.98      0.96      0.97       671\n",
      "      supine       0.89      0.93      0.91       242\n",
      "    outofbed       1.00      1.00      1.00       472\n",
      "       prone       0.95      0.95      0.95        81\n",
      "\n",
      "    accuracy                           0.97      1554\n",
      "   macro avg       0.94      0.96      0.95      1554\n",
      "weighted avg       0.97      0.97      0.97      1554\n",
      "\n"
     ]
    }
   ],
   "source": [
    "svc_preds_test = svc.predict(X_test)\n",
    "print(\n",
    "    \"\\n📈 SVC Test Results:\\n\",\n",
    "    classification_report(y_test, svc_preds_test, target_names=CLASSES),\n",
    ")"
   ]
  },
  {
   "cell_type": "code",
   "execution_count": 107,
   "id": "5fc59f16",
   "metadata": {},
   "outputs": [
    {
     "name": "stdout",
     "output_type": "stream",
     "text": [
      "\n",
      "📈 KNN Results:\n",
      "               precision    recall  f1-score   support\n",
      "\n",
      "        left       0.93      0.96      0.95        84\n",
      "       right       1.00      0.97      0.98       263\n",
      "      supine       0.95      0.97      0.96       146\n",
      "    outofbed       0.99      1.00      0.99       194\n",
      "       prone       0.97      0.96      0.96        68\n",
      "\n",
      "    accuracy                           0.98       755\n",
      "   macro avg       0.97      0.97      0.97       755\n",
      "weighted avg       0.98      0.98      0.98       755\n",
      "\n"
     ]
    },
    {
     "name": "stderr",
     "output_type": "stream",
     "text": [
      "Python(40809) MallocStackLogging: can't turn off malloc stack logging because it was not enabled.\n"
     ]
    }
   ],
   "source": [
    "# --- KNN ---\n",
    "knn = Pipeline(\n",
    "    [\n",
    "        (\"scaler\", StandardScaler()),\n",
    "        (\"knn\", KNeighborsClassifier(n_neighbors=7, weights=\"distance\")),\n",
    "    ]\n",
    ")\n",
    "knn.fit(X_train, y_train)\n",
    "knn_preds = knn.predict(X_val)\n",
    "print(\n",
    "    \"\\n📈 KNN Results:\\n\", classification_report(y_val, knn_preds, target_names=CLASSES)\n",
    ")"
   ]
  },
  {
   "cell_type": "code",
   "execution_count": 116,
   "id": "ef4eece5",
   "metadata": {},
   "outputs": [
    {
     "name": "stdout",
     "output_type": "stream",
     "text": [
      "\n",
      "📈 KNN Results:\n",
      "               precision    recall  f1-score   support\n",
      "\n",
      "        left       0.92      0.91      0.91        88\n",
      "       right       0.98      0.96      0.97       671\n",
      "      supine       0.89      0.95      0.92       242\n",
      "    outofbed       1.00      1.00      1.00       472\n",
      "       prone       0.96      0.94      0.95        81\n",
      "\n",
      "    accuracy                           0.97      1554\n",
      "   macro avg       0.95      0.95      0.95      1554\n",
      "weighted avg       0.97      0.97      0.97      1554\n",
      "\n"
     ]
    }
   ],
   "source": [
    "knn_preds_test = knn.predict(X_test)\n",
    "print(\n",
    "    \"\\n📈 KNN Results:\\n\",\n",
    "    classification_report(y_test, knn_preds_test, target_names=CLASSES),\n",
    ")"
   ]
  },
  {
   "cell_type": "code",
   "execution_count": 118,
   "id": "9393528a",
   "metadata": {},
   "outputs": [],
   "source": [
    "from xgboost import XGBClassifier"
   ]
  },
  {
   "cell_type": "code",
   "execution_count": 119,
   "id": "24cc4ab3",
   "metadata": {},
   "outputs": [
    {
     "name": "stdout",
     "output_type": "stream",
     "text": [
      "📈 XGBoost Results:\n",
      "              precision    recall  f1-score   support\n",
      "\n",
      "        left       0.95      0.96      0.96        84\n",
      "       right       0.99      0.98      0.98       263\n",
      "      supine       0.96      0.97      0.97       146\n",
      "    outofbed       1.00      1.00      1.00       194\n",
      "       prone       0.97      0.96      0.96        68\n",
      "\n",
      "    accuracy                           0.98       755\n",
      "   macro avg       0.97      0.97      0.97       755\n",
      "weighted avg       0.98      0.98      0.98       755\n",
      "\n"
     ]
    }
   ],
   "source": [
    "xgb = XGBClassifier(\n",
    "    n_estimators=400,\n",
    "    learning_rate=0.05,\n",
    "    max_depth=6,\n",
    "    subsample=0.8,\n",
    "    colsample_bytree=0.8,\n",
    "    reg_lambda=1.0,\n",
    "    reg_alpha=0.0,\n",
    "    objective=\"multi:softmax\",\n",
    "    num_class=len(CLASSES),\n",
    "    tree_method=\"hist\",  # CPU-friendly\n",
    "    n_jobs=-1,\n",
    "    random_state=42,\n",
    ")\n",
    "\n",
    "xgb.fit(X_train, y_train)\n",
    "xgb_preds = xgb.predict(X_val)\n",
    "\n",
    "print(\"📈 XGBoost Results:\")\n",
    "print(classification_report(y_val, xgb_preds, target_names=CLASSES))"
   ]
  },
  {
   "cell_type": "code",
   "execution_count": 120,
   "id": "aacd0fdd",
   "metadata": {},
   "outputs": [
    {
     "name": "stdout",
     "output_type": "stream",
     "text": [
      "📈 XGBoost TEST Results:\n",
      "              precision    recall  f1-score   support\n",
      "\n",
      "        left       0.91      0.91      0.91        88\n",
      "       right       0.98      0.97      0.97       671\n",
      "      supine       0.90      0.93      0.92       242\n",
      "    outofbed       1.00      1.00      1.00       472\n",
      "       prone       0.95      0.94      0.94        81\n",
      "\n",
      "    accuracy                           0.97      1554\n",
      "   macro avg       0.95      0.95      0.95      1554\n",
      "weighted avg       0.97      0.97      0.97      1554\n",
      "\n"
     ]
    }
   ],
   "source": [
    "xgb_preds_test = xgb.predict(X_test)\n",
    "\n",
    "print(\"📈 XGBoost TEST Results:\")\n",
    "print(classification_report(y_test, xgb_preds_test, target_names=CLASSES))"
   ]
  },
  {
   "cell_type": "code",
   "execution_count": 121,
   "id": "296d9ab9",
   "metadata": {},
   "outputs": [
    {
     "data": {
      "text/plain": [
       "['xgboost_model.pkl']"
      ]
     },
     "execution_count": 121,
     "metadata": {},
     "output_type": "execute_result"
    }
   ],
   "source": [
    "import joblib\n",
    "\n",
    "joblib.dump(xgb, \"xgboost_model.pkl\")"
   ]
  },
  {
   "cell_type": "code",
   "execution_count": null,
   "id": "6be6c0a8",
   "metadata": {},
   "outputs": [],
   "source": []
  }
 ],
 "metadata": {
  "kernelspec": {
   "display_name": "Python 3",
   "language": "python",
   "name": "python3"
  },
  "language_info": {
   "codemirror_mode": {
    "name": "ipython",
    "version": 3
   },
   "file_extension": ".py",
   "mimetype": "text/x-python",
   "name": "python",
   "nbconvert_exporter": "python",
   "pygments_lexer": "ipython3",
   "version": "3.12.4"
  }
 },
 "nbformat": 4,
 "nbformat_minor": 5
}
